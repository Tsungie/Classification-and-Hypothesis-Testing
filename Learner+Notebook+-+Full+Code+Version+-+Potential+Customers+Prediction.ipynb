{
 "cells": [
  {
   "cell_type": "markdown",
   "id": "AT5OogJVFbwu",
   "metadata": {
    "id": "AT5OogJVFbwu"
   },
   "source": [
    "# ExtraaLearn Project\n",
    "\n",
    "## Context\n",
    "\n",
    "The EdTech industry has been surging in the past decade immensely, and according to a forecast, the Online Education market would be worth $286.62bn by 2023 with a compound annual growth rate (CAGR) of 10.26% from 2018 to 2023. The modern era of online education has enforced a lot in its growth and expansion beyond any limit. Due to having many dominant features like ease of information sharing, personalized learning experience, transparency of assessment, etc, it is now preferable to traditional education. \n",
    "\n",
    "In the present scenario due to the Covid-19, the online education sector has witnessed rapid growth and is attracting a lot of new customers. Due to this rapid growth, many new companies have emerged in this industry. With the availability and ease of use of digital marketing resources, companies can reach out to a wider audience with their offerings. The customers who show interest in these offerings are termed as leads. There are various sources of obtaining leads for Edtech companies, like\n",
    "\n",
    "* The customer interacts with the marketing front on social media or other online platforms. \n",
    "* The customer browses the website/app and downloads the brochure\n",
    "* The customer connects through emails for more information.\n",
    "\n",
    "The company then nurtures these leads and tries to convert them to paid customers. For this, the representative from the organization connects with the lead on call or through email to share further details.\n",
    "\n",
    "## Objective\n",
    "\n",
    "ExtraaLearn is an initial stage startup that offers programs on cutting-edge technologies to students and professionals to help them upskill/reskill. With a large number of leads being generated on a regular basis, one of the issues faced by ExtraaLearn is to identify which of the leads are more likely to convert so that they can allocate resources accordingly. You, as a data scientist at ExtraaLearn, have been provided the leads data to:\n",
    "* Analyze and build an ML model to help identify which leads are more likely to convert to paid customers, \n",
    "* Find the factors driving the lead conversion process\n",
    "* Create a profile of the leads which are likely to convert\n",
    "\n",
    "\n",
    "## Data Description\n",
    "\n",
    "The data contains the different attributes of leads and their interaction details with ExtraaLearn. The detailed data dictionary is given below.\n",
    "\n",
    "\n",
    "**Data Dictionary**\n",
    "* ID: ID of the lead\n",
    "* age: Age of the lead\n",
    "* current_occupation: Current occupation of the lead. Values include 'Professional','Unemployed',and 'Student'\n",
    "* first_interaction: How did the lead first interacted with ExtraaLearn. Values include 'Website', 'Mobile App'\n",
    "* profile_completed: What percentage of profile has been filled by the lead on the website/mobile app. Values include Low - (0-50%), Medium - (50-75%), High (75-100%)\n",
    "* website_visits: How many times has a lead visited the website\n",
    "* time_spent_on_website: Total time spent on the website\n",
    "* page_views_per_visit: Average number of pages on the website viewed during the visits.\n",
    "* last_activity: Last interaction between the lead and ExtraaLearn. \n",
    "    * Email Activity: Seeking for details about program through email, Representative shared information with lead like brochure of program , etc \n",
    "    * Phone Activity: Had a Phone Conversation with representative, Had conversation over SMS with representative, etc\n",
    "    * Website Activity: Interacted on live chat with representative, Updated profile on website, etc\n",
    "\n",
    "* print_media_type1: Flag indicating whether the lead had seen the ad of ExtraaLearn in the Newspaper.\n",
    "* print_media_type2: Flag indicating whether the lead had seen the ad of ExtraaLearn in the Magazine.\n",
    "* digital_media: Flag indicating whether the lead had seen the ad of ExtraaLearn on the digital platforms.\n",
    "* educational_channels: Flag indicating whether the lead had heard about ExtraaLearn in the education channels like online forums, discussion threads, educational websites, etc.\n",
    "* referral: Flag indicating whether the lead had heard about ExtraaLearn through reference.\n",
    "* status: Flag indicating whether the lead was converted to a paid customer or not."
   ]
  },
  {
   "cell_type": "markdown",
   "id": "dirty-island",
   "metadata": {
    "id": "dirty-island"
   },
   "source": [
    "## Importing necessary libraries and data"
   ]
  },
  {
   "cell_type": "code",
   "execution_count": 97,
   "id": "statewide-still",
   "metadata": {
    "id": "statewide-still"
   },
   "outputs": [],
   "source": [
    "#import the necessary libraries\n",
    "import pandas as pd\n",
    "import seaborn as sns"
   ]
  },
  {
   "cell_type": "code",
   "execution_count": 98,
   "metadata": {},
   "outputs": [],
   "source": [
    "# to supress warnings\n",
    "import warnings\n",
    "warnings.filterwarnings(\"ignore\")"
   ]
  },
  {
   "cell_type": "code",
   "execution_count": 99,
   "metadata": {},
   "outputs": [],
   "source": [
    "# pandas display - set the maximum number of columns\n",
    "pd.set_option(\"display.max_columns\", None)\n",
    "# set the maximum number of rows\n",
    "pd.set_option(\"display.max_rows\", 200)"
   ]
  },
  {
   "cell_type": "code",
   "execution_count": 100,
   "metadata": {},
   "outputs": [],
   "source": [
    "#import the data\n",
    "df = pd.read_csv(\"ExtraaLearn.csv\")"
   ]
  },
  {
   "cell_type": "markdown",
   "id": "desperate-infection",
   "metadata": {
    "id": "desperate-infection"
   },
   "source": [
    "## Data Overview\n",
    "\n",
    "- Observations\n",
    "- Sanity checks"
   ]
  },
  {
   "cell_type": "code",
   "execution_count": 101,
   "id": "persistent-juice",
   "metadata": {
    "id": "persistent-juice"
   },
   "outputs": [
    {
     "data": {
      "text/html": [
       "<div>\n",
       "<style scoped>\n",
       "    .dataframe tbody tr th:only-of-type {\n",
       "        vertical-align: middle;\n",
       "    }\n",
       "\n",
       "    .dataframe tbody tr th {\n",
       "        vertical-align: top;\n",
       "    }\n",
       "\n",
       "    .dataframe thead th {\n",
       "        text-align: right;\n",
       "    }\n",
       "</style>\n",
       "<table border=\"1\" class=\"dataframe\">\n",
       "  <thead>\n",
       "    <tr style=\"text-align: right;\">\n",
       "      <th></th>\n",
       "      <th>ID</th>\n",
       "      <th>age</th>\n",
       "      <th>current_occupation</th>\n",
       "      <th>first_interaction</th>\n",
       "      <th>profile_completed</th>\n",
       "      <th>website_visits</th>\n",
       "      <th>time_spent_on_website</th>\n",
       "      <th>page_views_per_visit</th>\n",
       "      <th>last_activity</th>\n",
       "      <th>print_media_type1</th>\n",
       "      <th>print_media_type2</th>\n",
       "      <th>digital_media</th>\n",
       "      <th>educational_channels</th>\n",
       "      <th>referral</th>\n",
       "      <th>status</th>\n",
       "    </tr>\n",
       "  </thead>\n",
       "  <tbody>\n",
       "    <tr>\n",
       "      <th>0</th>\n",
       "      <td>EXT001</td>\n",
       "      <td>57</td>\n",
       "      <td>Unemployed</td>\n",
       "      <td>Website</td>\n",
       "      <td>High</td>\n",
       "      <td>7</td>\n",
       "      <td>1639</td>\n",
       "      <td>1.861</td>\n",
       "      <td>Website Activity</td>\n",
       "      <td>Yes</td>\n",
       "      <td>No</td>\n",
       "      <td>Yes</td>\n",
       "      <td>No</td>\n",
       "      <td>No</td>\n",
       "      <td>1</td>\n",
       "    </tr>\n",
       "    <tr>\n",
       "      <th>1</th>\n",
       "      <td>EXT002</td>\n",
       "      <td>56</td>\n",
       "      <td>Professional</td>\n",
       "      <td>Mobile App</td>\n",
       "      <td>Medium</td>\n",
       "      <td>2</td>\n",
       "      <td>83</td>\n",
       "      <td>0.320</td>\n",
       "      <td>Website Activity</td>\n",
       "      <td>No</td>\n",
       "      <td>No</td>\n",
       "      <td>No</td>\n",
       "      <td>Yes</td>\n",
       "      <td>No</td>\n",
       "      <td>0</td>\n",
       "    </tr>\n",
       "    <tr>\n",
       "      <th>2</th>\n",
       "      <td>EXT003</td>\n",
       "      <td>52</td>\n",
       "      <td>Professional</td>\n",
       "      <td>Website</td>\n",
       "      <td>Medium</td>\n",
       "      <td>3</td>\n",
       "      <td>330</td>\n",
       "      <td>0.074</td>\n",
       "      <td>Website Activity</td>\n",
       "      <td>No</td>\n",
       "      <td>No</td>\n",
       "      <td>Yes</td>\n",
       "      <td>No</td>\n",
       "      <td>No</td>\n",
       "      <td>0</td>\n",
       "    </tr>\n",
       "    <tr>\n",
       "      <th>3</th>\n",
       "      <td>EXT004</td>\n",
       "      <td>53</td>\n",
       "      <td>Unemployed</td>\n",
       "      <td>Website</td>\n",
       "      <td>High</td>\n",
       "      <td>4</td>\n",
       "      <td>464</td>\n",
       "      <td>2.057</td>\n",
       "      <td>Website Activity</td>\n",
       "      <td>No</td>\n",
       "      <td>No</td>\n",
       "      <td>No</td>\n",
       "      <td>No</td>\n",
       "      <td>No</td>\n",
       "      <td>1</td>\n",
       "    </tr>\n",
       "    <tr>\n",
       "      <th>4</th>\n",
       "      <td>EXT005</td>\n",
       "      <td>23</td>\n",
       "      <td>Student</td>\n",
       "      <td>Website</td>\n",
       "      <td>High</td>\n",
       "      <td>4</td>\n",
       "      <td>600</td>\n",
       "      <td>16.914</td>\n",
       "      <td>Email Activity</td>\n",
       "      <td>No</td>\n",
       "      <td>No</td>\n",
       "      <td>No</td>\n",
       "      <td>No</td>\n",
       "      <td>No</td>\n",
       "      <td>0</td>\n",
       "    </tr>\n",
       "    <tr>\n",
       "      <th>...</th>\n",
       "      <td>...</td>\n",
       "      <td>...</td>\n",
       "      <td>...</td>\n",
       "      <td>...</td>\n",
       "      <td>...</td>\n",
       "      <td>...</td>\n",
       "      <td>...</td>\n",
       "      <td>...</td>\n",
       "      <td>...</td>\n",
       "      <td>...</td>\n",
       "      <td>...</td>\n",
       "      <td>...</td>\n",
       "      <td>...</td>\n",
       "      <td>...</td>\n",
       "      <td>...</td>\n",
       "    </tr>\n",
       "    <tr>\n",
       "      <th>4607</th>\n",
       "      <td>EXT4608</td>\n",
       "      <td>35</td>\n",
       "      <td>Unemployed</td>\n",
       "      <td>Mobile App</td>\n",
       "      <td>Medium</td>\n",
       "      <td>15</td>\n",
       "      <td>360</td>\n",
       "      <td>2.170</td>\n",
       "      <td>Phone Activity</td>\n",
       "      <td>No</td>\n",
       "      <td>No</td>\n",
       "      <td>No</td>\n",
       "      <td>Yes</td>\n",
       "      <td>No</td>\n",
       "      <td>0</td>\n",
       "    </tr>\n",
       "    <tr>\n",
       "      <th>4608</th>\n",
       "      <td>EXT4609</td>\n",
       "      <td>55</td>\n",
       "      <td>Professional</td>\n",
       "      <td>Mobile App</td>\n",
       "      <td>Medium</td>\n",
       "      <td>8</td>\n",
       "      <td>2327</td>\n",
       "      <td>5.393</td>\n",
       "      <td>Email Activity</td>\n",
       "      <td>No</td>\n",
       "      <td>No</td>\n",
       "      <td>No</td>\n",
       "      <td>No</td>\n",
       "      <td>No</td>\n",
       "      <td>0</td>\n",
       "    </tr>\n",
       "    <tr>\n",
       "      <th>4609</th>\n",
       "      <td>EXT4610</td>\n",
       "      <td>58</td>\n",
       "      <td>Professional</td>\n",
       "      <td>Website</td>\n",
       "      <td>High</td>\n",
       "      <td>2</td>\n",
       "      <td>212</td>\n",
       "      <td>2.692</td>\n",
       "      <td>Email Activity</td>\n",
       "      <td>No</td>\n",
       "      <td>No</td>\n",
       "      <td>No</td>\n",
       "      <td>No</td>\n",
       "      <td>No</td>\n",
       "      <td>1</td>\n",
       "    </tr>\n",
       "    <tr>\n",
       "      <th>4610</th>\n",
       "      <td>EXT4611</td>\n",
       "      <td>57</td>\n",
       "      <td>Professional</td>\n",
       "      <td>Mobile App</td>\n",
       "      <td>Medium</td>\n",
       "      <td>1</td>\n",
       "      <td>154</td>\n",
       "      <td>3.879</td>\n",
       "      <td>Website Activity</td>\n",
       "      <td>Yes</td>\n",
       "      <td>No</td>\n",
       "      <td>No</td>\n",
       "      <td>No</td>\n",
       "      <td>No</td>\n",
       "      <td>0</td>\n",
       "    </tr>\n",
       "    <tr>\n",
       "      <th>4611</th>\n",
       "      <td>EXT4612</td>\n",
       "      <td>55</td>\n",
       "      <td>Professional</td>\n",
       "      <td>Website</td>\n",
       "      <td>Medium</td>\n",
       "      <td>4</td>\n",
       "      <td>2290</td>\n",
       "      <td>2.075</td>\n",
       "      <td>Phone Activity</td>\n",
       "      <td>No</td>\n",
       "      <td>No</td>\n",
       "      <td>No</td>\n",
       "      <td>No</td>\n",
       "      <td>No</td>\n",
       "      <td>0</td>\n",
       "    </tr>\n",
       "  </tbody>\n",
       "</table>\n",
       "<p>4612 rows × 15 columns</p>\n",
       "</div>"
      ],
      "text/plain": [
       "           ID  age current_occupation first_interaction profile_completed  \\\n",
       "0      EXT001   57         Unemployed           Website              High   \n",
       "1      EXT002   56       Professional        Mobile App            Medium   \n",
       "2      EXT003   52       Professional           Website            Medium   \n",
       "3      EXT004   53         Unemployed           Website              High   \n",
       "4      EXT005   23            Student           Website              High   \n",
       "...       ...  ...                ...               ...               ...   \n",
       "4607  EXT4608   35         Unemployed        Mobile App            Medium   \n",
       "4608  EXT4609   55       Professional        Mobile App            Medium   \n",
       "4609  EXT4610   58       Professional           Website              High   \n",
       "4610  EXT4611   57       Professional        Mobile App            Medium   \n",
       "4611  EXT4612   55       Professional           Website            Medium   \n",
       "\n",
       "      website_visits  time_spent_on_website  page_views_per_visit  \\\n",
       "0                  7                   1639                 1.861   \n",
       "1                  2                     83                 0.320   \n",
       "2                  3                    330                 0.074   \n",
       "3                  4                    464                 2.057   \n",
       "4                  4                    600                16.914   \n",
       "...              ...                    ...                   ...   \n",
       "4607              15                    360                 2.170   \n",
       "4608               8                   2327                 5.393   \n",
       "4609               2                    212                 2.692   \n",
       "4610               1                    154                 3.879   \n",
       "4611               4                   2290                 2.075   \n",
       "\n",
       "         last_activity print_media_type1 print_media_type2 digital_media  \\\n",
       "0     Website Activity               Yes                No           Yes   \n",
       "1     Website Activity                No                No            No   \n",
       "2     Website Activity                No                No           Yes   \n",
       "3     Website Activity                No                No            No   \n",
       "4       Email Activity                No                No            No   \n",
       "...                ...               ...               ...           ...   \n",
       "4607    Phone Activity                No                No            No   \n",
       "4608    Email Activity                No                No            No   \n",
       "4609    Email Activity                No                No            No   \n",
       "4610  Website Activity               Yes                No            No   \n",
       "4611    Phone Activity                No                No            No   \n",
       "\n",
       "     educational_channels referral  status  \n",
       "0                      No       No       1  \n",
       "1                     Yes       No       0  \n",
       "2                      No       No       0  \n",
       "3                      No       No       1  \n",
       "4                      No       No       0  \n",
       "...                   ...      ...     ...  \n",
       "4607                  Yes       No       0  \n",
       "4608                   No       No       0  \n",
       "4609                   No       No       1  \n",
       "4610                   No       No       0  \n",
       "4611                   No       No       0  \n",
       "\n",
       "[4612 rows x 15 columns]"
      ]
     },
     "execution_count": 101,
     "metadata": {},
     "output_type": "execute_result"
    }
   ],
   "source": [
    "#we don't want to overwrite the original data frame\n",
    "same_data = df.copy()\n",
    "same_data\n",
    "\n",
    "#from what it shows, we have 4612  rows and 15  columns"
   ]
  },
  {
   "cell_type": "markdown",
   "metadata": {},
   "source": [
    "We have 4612  rows and 15  columns"
   ]
  },
  {
   "cell_type": "code",
   "execution_count": 102,
   "metadata": {},
   "outputs": [
    {
     "data": {
      "text/plain": [
       "(4612, 15)"
      ]
     },
     "execution_count": 102,
     "metadata": {},
     "output_type": "execute_result"
    }
   ],
   "source": [
    "# we can also use data.shape to see the number pf rows and columns\n",
    "#the first number shows rows, and the second one columns (4612 rows and 15 columns)\n",
    "df.shape"
   ]
  },
  {
   "cell_type": "markdown",
   "metadata": {},
   "source": [
    "Our data set has  4612 rows and 15 columns"
   ]
  },
  {
   "cell_type": "code",
   "execution_count": 103,
   "metadata": {},
   "outputs": [
    {
     "data": {
      "text/html": [
       "<div>\n",
       "<style scoped>\n",
       "    .dataframe tbody tr th:only-of-type {\n",
       "        vertical-align: middle;\n",
       "    }\n",
       "\n",
       "    .dataframe tbody tr th {\n",
       "        vertical-align: top;\n",
       "    }\n",
       "\n",
       "    .dataframe thead th {\n",
       "        text-align: right;\n",
       "    }\n",
       "</style>\n",
       "<table border=\"1\" class=\"dataframe\">\n",
       "  <thead>\n",
       "    <tr style=\"text-align: right;\">\n",
       "      <th></th>\n",
       "      <th>ID</th>\n",
       "      <th>age</th>\n",
       "      <th>current_occupation</th>\n",
       "      <th>first_interaction</th>\n",
       "      <th>profile_completed</th>\n",
       "      <th>website_visits</th>\n",
       "      <th>time_spent_on_website</th>\n",
       "      <th>page_views_per_visit</th>\n",
       "      <th>last_activity</th>\n",
       "      <th>print_media_type1</th>\n",
       "      <th>print_media_type2</th>\n",
       "      <th>digital_media</th>\n",
       "      <th>educational_channels</th>\n",
       "      <th>referral</th>\n",
       "      <th>status</th>\n",
       "    </tr>\n",
       "  </thead>\n",
       "  <tbody>\n",
       "    <tr>\n",
       "      <th>0</th>\n",
       "      <td>EXT001</td>\n",
       "      <td>57</td>\n",
       "      <td>Unemployed</td>\n",
       "      <td>Website</td>\n",
       "      <td>High</td>\n",
       "      <td>7</td>\n",
       "      <td>1639</td>\n",
       "      <td>1.861</td>\n",
       "      <td>Website Activity</td>\n",
       "      <td>Yes</td>\n",
       "      <td>No</td>\n",
       "      <td>Yes</td>\n",
       "      <td>No</td>\n",
       "      <td>No</td>\n",
       "      <td>1</td>\n",
       "    </tr>\n",
       "    <tr>\n",
       "      <th>1</th>\n",
       "      <td>EXT002</td>\n",
       "      <td>56</td>\n",
       "      <td>Professional</td>\n",
       "      <td>Mobile App</td>\n",
       "      <td>Medium</td>\n",
       "      <td>2</td>\n",
       "      <td>83</td>\n",
       "      <td>0.320</td>\n",
       "      <td>Website Activity</td>\n",
       "      <td>No</td>\n",
       "      <td>No</td>\n",
       "      <td>No</td>\n",
       "      <td>Yes</td>\n",
       "      <td>No</td>\n",
       "      <td>0</td>\n",
       "    </tr>\n",
       "    <tr>\n",
       "      <th>2</th>\n",
       "      <td>EXT003</td>\n",
       "      <td>52</td>\n",
       "      <td>Professional</td>\n",
       "      <td>Website</td>\n",
       "      <td>Medium</td>\n",
       "      <td>3</td>\n",
       "      <td>330</td>\n",
       "      <td>0.074</td>\n",
       "      <td>Website Activity</td>\n",
       "      <td>No</td>\n",
       "      <td>No</td>\n",
       "      <td>Yes</td>\n",
       "      <td>No</td>\n",
       "      <td>No</td>\n",
       "      <td>0</td>\n",
       "    </tr>\n",
       "    <tr>\n",
       "      <th>3</th>\n",
       "      <td>EXT004</td>\n",
       "      <td>53</td>\n",
       "      <td>Unemployed</td>\n",
       "      <td>Website</td>\n",
       "      <td>High</td>\n",
       "      <td>4</td>\n",
       "      <td>464</td>\n",
       "      <td>2.057</td>\n",
       "      <td>Website Activity</td>\n",
       "      <td>No</td>\n",
       "      <td>No</td>\n",
       "      <td>No</td>\n",
       "      <td>No</td>\n",
       "      <td>No</td>\n",
       "      <td>1</td>\n",
       "    </tr>\n",
       "    <tr>\n",
       "      <th>4</th>\n",
       "      <td>EXT005</td>\n",
       "      <td>23</td>\n",
       "      <td>Student</td>\n",
       "      <td>Website</td>\n",
       "      <td>High</td>\n",
       "      <td>4</td>\n",
       "      <td>600</td>\n",
       "      <td>16.914</td>\n",
       "      <td>Email Activity</td>\n",
       "      <td>No</td>\n",
       "      <td>No</td>\n",
       "      <td>No</td>\n",
       "      <td>No</td>\n",
       "      <td>No</td>\n",
       "      <td>0</td>\n",
       "    </tr>\n",
       "  </tbody>\n",
       "</table>\n",
       "</div>"
      ],
      "text/plain": [
       "       ID  age current_occupation first_interaction profile_completed  \\\n",
       "0  EXT001   57         Unemployed           Website              High   \n",
       "1  EXT002   56       Professional        Mobile App            Medium   \n",
       "2  EXT003   52       Professional           Website            Medium   \n",
       "3  EXT004   53         Unemployed           Website              High   \n",
       "4  EXT005   23            Student           Website              High   \n",
       "\n",
       "   website_visits  time_spent_on_website  page_views_per_visit  \\\n",
       "0               7                   1639                 1.861   \n",
       "1               2                     83                 0.320   \n",
       "2               3                    330                 0.074   \n",
       "3               4                    464                 2.057   \n",
       "4               4                    600                16.914   \n",
       "\n",
       "      last_activity print_media_type1 print_media_type2 digital_media  \\\n",
       "0  Website Activity               Yes                No           Yes   \n",
       "1  Website Activity                No                No            No   \n",
       "2  Website Activity                No                No           Yes   \n",
       "3  Website Activity                No                No            No   \n",
       "4    Email Activity                No                No            No   \n",
       "\n",
       "  educational_channels referral  status  \n",
       "0                   No       No       1  \n",
       "1                  Yes       No       0  \n",
       "2                   No       No       0  \n",
       "3                   No       No       1  \n",
       "4                   No       No       0  "
      ]
     },
     "execution_count": 103,
     "metadata": {},
     "output_type": "execute_result"
    }
   ],
   "source": [
    "# obesrving our data set \n",
    "df.head()\n",
    "# by default it will display the first 5 and the last 5 rows\n",
    "\n",
    "#let's inspect the data that we have\n",
    "\n"
   ]
  },
  {
   "cell_type": "markdown",
   "metadata": {},
   "source": [
    "MY OBSERVATION ABOUT THE DATA SET:\n",
    "\n",
    "We have age of the lead and their current occupation \n",
    "#are they employed, unemployed or students\n",
    "\n",
    "We have whether the lead interacted with ExtraLearn either through the web or mobile app -\n",
    "this an help us see which one has more leads, the website or the mobile app\n",
    "\n",
    "Profile completed shows if the lead completed their profile or not.\n",
    "This could help us see whether completed profiles are the ones that buy or not\n",
    "this is in percentages\n",
    "\n",
    "We are also able to see how many times the lead visited the website\n",
    "\n",
    "We also have information on the total time that a lead spent on the website\n",
    "this is recorded in secs\n",
    "\n",
    "When they visited our website, what was the average number of pages on the website did they view\n",
    "\n",
    "We also have information that shows the last interaction between the lead and extra learn,\n",
    "Was it through an email that they received about the program?\n",
    "Did they have a phone conversation with a representative through sms?\n",
    "Was it through the website? - Did they have a live chat on the website\n",
    "\n",
    "Did the lead see the ad of ExtraaLearn in the newspaper?\n",
    "\n",
    "Did the lead see the ad of ExtraaLearn in the magazine?\n",
    "\n",
    "Did the lead see the ad of ExtraaLearn on a digital platform?\n",
    "\n",
    "Did the lead hear about ExtraaLearn on an education channel\n",
    "was it an online forum, or education wesite etc?\n",
    "\n",
    "Did the lead hear about ExtraaLearn through a referral?\n",
    "\n",
    "Did the lead eventually become a paying customer or not\n",
    "***We want to see how many are paying customers out of the total"
   ]
  },
  {
   "cell_type": "code",
   "execution_count": 104,
   "metadata": {},
   "outputs": [
    {
     "data": {
      "text/html": [
       "<div>\n",
       "<style scoped>\n",
       "    .dataframe tbody tr th:only-of-type {\n",
       "        vertical-align: middle;\n",
       "    }\n",
       "\n",
       "    .dataframe tbody tr th {\n",
       "        vertical-align: top;\n",
       "    }\n",
       "\n",
       "    .dataframe thead th {\n",
       "        text-align: right;\n",
       "    }\n",
       "</style>\n",
       "<table border=\"1\" class=\"dataframe\">\n",
       "  <thead>\n",
       "    <tr style=\"text-align: right;\">\n",
       "      <th></th>\n",
       "      <th>ID</th>\n",
       "      <th>age</th>\n",
       "      <th>current_occupation</th>\n",
       "      <th>first_interaction</th>\n",
       "      <th>profile_completed</th>\n",
       "      <th>website_visits</th>\n",
       "      <th>time_spent_on_website</th>\n",
       "      <th>page_views_per_visit</th>\n",
       "      <th>last_activity</th>\n",
       "      <th>print_media_type1</th>\n",
       "      <th>print_media_type2</th>\n",
       "      <th>digital_media</th>\n",
       "      <th>educational_channels</th>\n",
       "      <th>referral</th>\n",
       "      <th>status</th>\n",
       "    </tr>\n",
       "  </thead>\n",
       "  <tbody>\n",
       "    <tr>\n",
       "      <th>1351</th>\n",
       "      <td>EXT1352</td>\n",
       "      <td>58</td>\n",
       "      <td>Professional</td>\n",
       "      <td>Mobile App</td>\n",
       "      <td>High</td>\n",
       "      <td>6</td>\n",
       "      <td>376</td>\n",
       "      <td>3.565</td>\n",
       "      <td>Email Activity</td>\n",
       "      <td>No</td>\n",
       "      <td>No</td>\n",
       "      <td>No</td>\n",
       "      <td>No</td>\n",
       "      <td>No</td>\n",
       "      <td>0</td>\n",
       "    </tr>\n",
       "    <tr>\n",
       "      <th>3417</th>\n",
       "      <td>EXT3418</td>\n",
       "      <td>56</td>\n",
       "      <td>Professional</td>\n",
       "      <td>Website</td>\n",
       "      <td>High</td>\n",
       "      <td>2</td>\n",
       "      <td>1667</td>\n",
       "      <td>2.251</td>\n",
       "      <td>Email Activity</td>\n",
       "      <td>No</td>\n",
       "      <td>No</td>\n",
       "      <td>No</td>\n",
       "      <td>No</td>\n",
       "      <td>No</td>\n",
       "      <td>1</td>\n",
       "    </tr>\n",
       "    <tr>\n",
       "      <th>1773</th>\n",
       "      <td>EXT1774</td>\n",
       "      <td>19</td>\n",
       "      <td>Student</td>\n",
       "      <td>Website</td>\n",
       "      <td>High</td>\n",
       "      <td>1</td>\n",
       "      <td>335</td>\n",
       "      <td>3.538</td>\n",
       "      <td>Email Activity</td>\n",
       "      <td>No</td>\n",
       "      <td>No</td>\n",
       "      <td>No</td>\n",
       "      <td>No</td>\n",
       "      <td>No</td>\n",
       "      <td>0</td>\n",
       "    </tr>\n",
       "    <tr>\n",
       "      <th>3</th>\n",
       "      <td>EXT004</td>\n",
       "      <td>53</td>\n",
       "      <td>Unemployed</td>\n",
       "      <td>Website</td>\n",
       "      <td>High</td>\n",
       "      <td>4</td>\n",
       "      <td>464</td>\n",
       "      <td>2.057</td>\n",
       "      <td>Website Activity</td>\n",
       "      <td>No</td>\n",
       "      <td>No</td>\n",
       "      <td>No</td>\n",
       "      <td>No</td>\n",
       "      <td>No</td>\n",
       "      <td>1</td>\n",
       "    </tr>\n",
       "    <tr>\n",
       "      <th>1375</th>\n",
       "      <td>EXT1376</td>\n",
       "      <td>58</td>\n",
       "      <td>Professional</td>\n",
       "      <td>Website</td>\n",
       "      <td>High</td>\n",
       "      <td>0</td>\n",
       "      <td>0</td>\n",
       "      <td>0.000</td>\n",
       "      <td>Phone Activity</td>\n",
       "      <td>No</td>\n",
       "      <td>No</td>\n",
       "      <td>No</td>\n",
       "      <td>No</td>\n",
       "      <td>No</td>\n",
       "      <td>1</td>\n",
       "    </tr>\n",
       "    <tr>\n",
       "      <th>4105</th>\n",
       "      <td>EXT4106</td>\n",
       "      <td>22</td>\n",
       "      <td>Student</td>\n",
       "      <td>Mobile App</td>\n",
       "      <td>Medium</td>\n",
       "      <td>8</td>\n",
       "      <td>35</td>\n",
       "      <td>2.225</td>\n",
       "      <td>Email Activity</td>\n",
       "      <td>No</td>\n",
       "      <td>No</td>\n",
       "      <td>Yes</td>\n",
       "      <td>No</td>\n",
       "      <td>No</td>\n",
       "      <td>0</td>\n",
       "    </tr>\n",
       "    <tr>\n",
       "      <th>2161</th>\n",
       "      <td>EXT2162</td>\n",
       "      <td>20</td>\n",
       "      <td>Student</td>\n",
       "      <td>Website</td>\n",
       "      <td>High</td>\n",
       "      <td>4</td>\n",
       "      <td>525</td>\n",
       "      <td>5.371</td>\n",
       "      <td>Website Activity</td>\n",
       "      <td>No</td>\n",
       "      <td>No</td>\n",
       "      <td>Yes</td>\n",
       "      <td>No</td>\n",
       "      <td>No</td>\n",
       "      <td>0</td>\n",
       "    </tr>\n",
       "    <tr>\n",
       "      <th>844</th>\n",
       "      <td>EXT845</td>\n",
       "      <td>60</td>\n",
       "      <td>Unemployed</td>\n",
       "      <td>Mobile App</td>\n",
       "      <td>High</td>\n",
       "      <td>9</td>\n",
       "      <td>61</td>\n",
       "      <td>5.382</td>\n",
       "      <td>Phone Activity</td>\n",
       "      <td>No</td>\n",
       "      <td>No</td>\n",
       "      <td>No</td>\n",
       "      <td>No</td>\n",
       "      <td>No</td>\n",
       "      <td>0</td>\n",
       "    </tr>\n",
       "    <tr>\n",
       "      <th>4603</th>\n",
       "      <td>EXT4604</td>\n",
       "      <td>26</td>\n",
       "      <td>Professional</td>\n",
       "      <td>Website</td>\n",
       "      <td>Medium</td>\n",
       "      <td>4</td>\n",
       "      <td>150</td>\n",
       "      <td>2.149</td>\n",
       "      <td>Website Activity</td>\n",
       "      <td>No</td>\n",
       "      <td>No</td>\n",
       "      <td>No</td>\n",
       "      <td>No</td>\n",
       "      <td>No</td>\n",
       "      <td>0</td>\n",
       "    </tr>\n",
       "    <tr>\n",
       "      <th>2137</th>\n",
       "      <td>EXT2138</td>\n",
       "      <td>55</td>\n",
       "      <td>Professional</td>\n",
       "      <td>Mobile App</td>\n",
       "      <td>High</td>\n",
       "      <td>2</td>\n",
       "      <td>1930</td>\n",
       "      <td>3.677</td>\n",
       "      <td>Email Activity</td>\n",
       "      <td>No</td>\n",
       "      <td>No</td>\n",
       "      <td>No</td>\n",
       "      <td>No</td>\n",
       "      <td>No</td>\n",
       "      <td>1</td>\n",
       "    </tr>\n",
       "  </tbody>\n",
       "</table>\n",
       "</div>"
      ],
      "text/plain": [
       "           ID  age current_occupation first_interaction profile_completed  \\\n",
       "1351  EXT1352   58       Professional        Mobile App              High   \n",
       "3417  EXT3418   56       Professional           Website              High   \n",
       "1773  EXT1774   19            Student           Website              High   \n",
       "3      EXT004   53         Unemployed           Website              High   \n",
       "1375  EXT1376   58       Professional           Website              High   \n",
       "4105  EXT4106   22            Student        Mobile App            Medium   \n",
       "2161  EXT2162   20            Student           Website              High   \n",
       "844    EXT845   60         Unemployed        Mobile App              High   \n",
       "4603  EXT4604   26       Professional           Website            Medium   \n",
       "2137  EXT2138   55       Professional        Mobile App              High   \n",
       "\n",
       "      website_visits  time_spent_on_website  page_views_per_visit  \\\n",
       "1351               6                    376                 3.565   \n",
       "3417               2                   1667                 2.251   \n",
       "1773               1                    335                 3.538   \n",
       "3                  4                    464                 2.057   \n",
       "1375               0                      0                 0.000   \n",
       "4105               8                     35                 2.225   \n",
       "2161               4                    525                 5.371   \n",
       "844                9                     61                 5.382   \n",
       "4603               4                    150                 2.149   \n",
       "2137               2                   1930                 3.677   \n",
       "\n",
       "         last_activity print_media_type1 print_media_type2 digital_media  \\\n",
       "1351    Email Activity                No                No            No   \n",
       "3417    Email Activity                No                No            No   \n",
       "1773    Email Activity                No                No            No   \n",
       "3     Website Activity                No                No            No   \n",
       "1375    Phone Activity                No                No            No   \n",
       "4105    Email Activity                No                No           Yes   \n",
       "2161  Website Activity                No                No           Yes   \n",
       "844     Phone Activity                No                No            No   \n",
       "4603  Website Activity                No                No            No   \n",
       "2137    Email Activity                No                No            No   \n",
       "\n",
       "     educational_channels referral  status  \n",
       "1351                   No       No       0  \n",
       "3417                   No       No       1  \n",
       "1773                   No       No       0  \n",
       "3                      No       No       1  \n",
       "1375                   No       No       1  \n",
       "4105                   No       No       0  \n",
       "2161                   No       No       0  \n",
       "844                    No       No       0  \n",
       "4603                   No       No       0  \n",
       "2137                   No       No       1  "
      ]
     },
     "execution_count": 104,
     "metadata": {},
     "output_type": "execute_result"
    }
   ],
   "source": [
    "# let's find out how many unique values exist using the ID\n",
    "df['ID'].nunique()\n",
    "df.sample(10)\n",
    "#it seems all our IDs start with EXT"
   ]
  },
  {
   "cell_type": "markdown",
   "metadata": {},
   "source": [
    "We have 4612 unique IDs, which match with the  4612 rows that we have (the shape of the dataset). \n",
    "\n",
    "This shows that every ID in the data field is unique\n",
    "\n",
    "df.sample(10) shows that our IDs all start with EXT followed by numbers. The number seem to be incremental"
   ]
  },
  {
   "cell_type": "code",
   "execution_count": 105,
   "metadata": {},
   "outputs": [
    {
     "data": {
      "text/plain": [
       "0       False\n",
       "1       False\n",
       "2       False\n",
       "3       False\n",
       "4       False\n",
       "        ...  \n",
       "4607    False\n",
       "4608    False\n",
       "4609    False\n",
       "4610    False\n",
       "4611    False\n",
       "Length: 4612, dtype: bool"
      ]
     },
     "execution_count": 105,
     "metadata": {},
     "output_type": "execute_result"
    }
   ],
   "source": [
    "#Anoher way of checking if there are any duplicates is to use the below code:\n",
    "df.duplicated()\n"
   ]
  },
  {
   "cell_type": "markdown",
   "metadata": {},
   "source": [
    "Our dataset shows  no duplicates as it shows False"
   ]
  },
  {
   "cell_type": "code",
   "execution_count": 106,
   "id": "d7de70b3",
   "metadata": {},
   "outputs": [
    {
     "name": "stdout",
     "output_type": "stream",
     "text": [
      "<class 'pandas.core.frame.DataFrame'>\n",
      "RangeIndex: 4612 entries, 0 to 4611\n",
      "Data columns (total 15 columns):\n",
      " #   Column                 Non-Null Count  Dtype  \n",
      "---  ------                 --------------  -----  \n",
      " 0   ID                     4612 non-null   object \n",
      " 1   age                    4612 non-null   int64  \n",
      " 2   current_occupation     4612 non-null   object \n",
      " 3   first_interaction      4612 non-null   object \n",
      " 4   profile_completed      4612 non-null   object \n",
      " 5   website_visits         4612 non-null   int64  \n",
      " 6   time_spent_on_website  4612 non-null   int64  \n",
      " 7   page_views_per_visit   4612 non-null   float64\n",
      " 8   last_activity          4612 non-null   object \n",
      " 9   print_media_type1      4612 non-null   object \n",
      " 10  print_media_type2      4612 non-null   object \n",
      " 11  digital_media          4612 non-null   object \n",
      " 12  educational_channels   4612 non-null   object \n",
      " 13  referral               4612 non-null   object \n",
      " 14  status                 4612 non-null   int64  \n",
      "dtypes: float64(1), int64(4), object(10)\n",
      "memory usage: 540.6+ KB\n"
     ]
    }
   ],
   "source": [
    "# checking for missing values and the data types that we have\n",
    "df.info()"
   ]
  },
  {
   "cell_type": "markdown",
   "metadata": {},
   "source": [
    "All of the values are not null values\n",
    "\n",
    "We have 4612 rows, which shows that there are no missing values\n",
    "\n",
    "Our data type shows that we have: \n",
    "\n",
    "1 float ( page_views_per_visit)\n",
    "\n",
    "4 int types (age, website_visits, time_spent_on_website,status                 )\n",
    "\n",
    "and 10 string types - mostly strings are treated as object variables\n",
    "\n",
    "The total size of the data set is 540 kb which is rather a small data set\n"
   ]
  },
  {
   "cell_type": "code",
   "execution_count": null,
   "id": "fee0b340",
   "metadata": {},
   "outputs": [],
   "source": []
  },
  {
   "cell_type": "markdown",
   "id": "seasonal-calibration",
   "metadata": {
    "id": "seasonal-calibration"
   },
   "source": [
    "## Exploratory Data Analysis (EDA)\n",
    "\n",
    "- EDA is an important part of any project involving data.\n",
    "- It is important to investigate and understand the data better before building a model with it.\n",
    "- A few questions have been mentioned below which will help you approach the analysis in the right manner and generate insights from the data.\n",
    "- A thorough analysis of the data, in addition to the questions mentioned below, should be done."
   ]
  },
  {
   "cell_type": "markdown",
   "id": "approved-brother",
   "metadata": {
    "id": "approved-brother"
   },
   "source": [
    "**Questions**\n",
    "1. Leads will have different expectations from the outcome of the course and the current occupation may play a key role in getting them to participate in the program. Find out how current occupation affects lead status.\n",
    "2. The company's first impression on the customer must have an impact. Do the first channels of interaction have an impact on the lead status? \n",
    "3. The company uses multiple modes to interact with prospects. Which way of interaction works best? \n",
    "4. The company gets leads from various channels such as print media, digital media, referrals, etc. Which of these channels have the highest lead conversion rate?\n",
    "5. People browsing the website or mobile application are generally required to create a profile by sharing their personal data before they can access additional information.Does having more details about a prospect increase the chances of conversion?"
   ]
  },
  {
   "cell_type": "code",
   "execution_count": 107,
   "id": "ed5b192c",
   "metadata": {},
   "outputs": [
    {
     "data": {
      "text/html": [
       "<div>\n",
       "<style scoped>\n",
       "    .dataframe tbody tr th:only-of-type {\n",
       "        vertical-align: middle;\n",
       "    }\n",
       "\n",
       "    .dataframe tbody tr th {\n",
       "        vertical-align: top;\n",
       "    }\n",
       "\n",
       "    .dataframe thead th {\n",
       "        text-align: right;\n",
       "    }\n",
       "</style>\n",
       "<table border=\"1\" class=\"dataframe\">\n",
       "  <thead>\n",
       "    <tr style=\"text-align: right;\">\n",
       "      <th></th>\n",
       "      <th>count</th>\n",
       "      <th>mean</th>\n",
       "      <th>std</th>\n",
       "      <th>min</th>\n",
       "      <th>25%</th>\n",
       "      <th>50%</th>\n",
       "      <th>75%</th>\n",
       "      <th>max</th>\n",
       "    </tr>\n",
       "  </thead>\n",
       "  <tbody>\n",
       "    <tr>\n",
       "      <th>age</th>\n",
       "      <td>4612.0</td>\n",
       "      <td>46.201214</td>\n",
       "      <td>13.161454</td>\n",
       "      <td>18.0</td>\n",
       "      <td>36.00000</td>\n",
       "      <td>51.000</td>\n",
       "      <td>57.00000</td>\n",
       "      <td>63.000</td>\n",
       "    </tr>\n",
       "    <tr>\n",
       "      <th>website_visits</th>\n",
       "      <td>4612.0</td>\n",
       "      <td>3.566782</td>\n",
       "      <td>2.829134</td>\n",
       "      <td>0.0</td>\n",
       "      <td>2.00000</td>\n",
       "      <td>3.000</td>\n",
       "      <td>5.00000</td>\n",
       "      <td>30.000</td>\n",
       "    </tr>\n",
       "    <tr>\n",
       "      <th>time_spent_on_website</th>\n",
       "      <td>4612.0</td>\n",
       "      <td>724.011275</td>\n",
       "      <td>743.828683</td>\n",
       "      <td>0.0</td>\n",
       "      <td>148.75000</td>\n",
       "      <td>376.000</td>\n",
       "      <td>1336.75000</td>\n",
       "      <td>2537.000</td>\n",
       "    </tr>\n",
       "    <tr>\n",
       "      <th>page_views_per_visit</th>\n",
       "      <td>4612.0</td>\n",
       "      <td>3.026126</td>\n",
       "      <td>1.968125</td>\n",
       "      <td>0.0</td>\n",
       "      <td>2.07775</td>\n",
       "      <td>2.792</td>\n",
       "      <td>3.75625</td>\n",
       "      <td>18.434</td>\n",
       "    </tr>\n",
       "    <tr>\n",
       "      <th>status</th>\n",
       "      <td>4612.0</td>\n",
       "      <td>0.298569</td>\n",
       "      <td>0.457680</td>\n",
       "      <td>0.0</td>\n",
       "      <td>0.00000</td>\n",
       "      <td>0.000</td>\n",
       "      <td>1.00000</td>\n",
       "      <td>1.000</td>\n",
       "    </tr>\n",
       "  </tbody>\n",
       "</table>\n",
       "</div>"
      ],
      "text/plain": [
       "                        count        mean         std   min        25%  \\\n",
       "age                    4612.0   46.201214   13.161454  18.0   36.00000   \n",
       "website_visits         4612.0    3.566782    2.829134   0.0    2.00000   \n",
       "time_spent_on_website  4612.0  724.011275  743.828683   0.0  148.75000   \n",
       "page_views_per_visit   4612.0    3.026126    1.968125   0.0    2.07775   \n",
       "status                 4612.0    0.298569    0.457680   0.0    0.00000   \n",
       "\n",
       "                           50%         75%       max  \n",
       "age                     51.000    57.00000    63.000  \n",
       "website_visits           3.000     5.00000    30.000  \n",
       "time_spent_on_website  376.000  1336.75000  2537.000  \n",
       "page_views_per_visit     2.792     3.75625    18.434  \n",
       "status                   0.000     1.00000     1.000  "
      ]
     },
     "execution_count": 107,
     "metadata": {},
     "output_type": "execute_result"
    }
   ],
   "source": [
    "#let's look at the descriptive statistics for out continuous data set\n",
    "# pandas treats integers and floats as continuous variables- hence it will shows us 5 values which are integers and floats\n",
    "df.describe().T\n",
    "#this will show us the minumum,maximum,quartile,median,std"
   ]
  },
  {
   "cell_type": "markdown",
   "metadata": {},
   "source": [
    "# UNIVARIATE ANALYSIS - NUMERICAL FEATURES\n",
    "\n",
    "1- AGE\n",
    "\n",
    "On average our leads are aged 46. The minimum age is 18 and the highest age is 63\n",
    "\n",
    "2- WEBSITE VISITS : how many times a customer(lead) visIted the website:\n",
    "\n",
    "on average the customer visited the website about 4 times.\n",
    "\n",
    "The lowest time is 0 and the maximum time a lead has visitd the website is 30 times\n",
    "\n",
    "\n",
    "3- TIME SPENT ON WEBSITE: \n",
    "\n",
    "The average total time spend on the website by a customer is 724 seconds which is 12 mins\n",
    "\n",
    "\n",
    "The lowest time spent on the website is 0 and the highest total time spent is 2537\n",
    "\n",
    "\n",
    "4- PAGE VIEW PER VISIT - Average number of pages on the website viewed during the visits\n",
    "\n",
    "On average a customer views 3 pages during a visit.\n",
    "\n",
    "The least viewed number of pages is 0 meaning that the lead sometimes opens the site but does not view any page\n",
    "\n",
    "The most viewed number of pages is 18\n",
    "\n",
    "5- STATUS -  Flag indicating whether the lead was converted to a paid customer or not\n",
    "\n",
    "On average, a lead converting to a customer has been very low, 0 and the maximum has been 1 client\n",
    "\n",
    "this means leads that convert to buying customers are very few"
   ]
  },
  {
   "cell_type": "code",
   "execution_count": 108,
   "metadata": {},
   "outputs": [
    {
     "data": {
      "text/plain": [
       "status\n",
       "0    3235\n",
       "1    1377\n",
       "Name: count, dtype: int64"
      ]
     },
     "execution_count": 108,
     "metadata": {},
     "output_type": "execute_result"
    }
   ],
   "source": [
    "# i want to know the value count of status\n",
    "df['status'].value_counts()\n"
   ]
  },
  {
   "cell_type": "markdown",
   "metadata": {},
   "source": [
    "The value count of status:\n",
    "\n",
    "1377 leads have become  buying customers\n",
    "\n",
    "3235 leads did not buy\n",
    "\n",
    "This shows that fewer people end up becoming paying customes, compared to those that do not buy\n",
    "\n",
    "We might need to find out which buying customers buy. maybe check employment status, time spent on website or  "
   ]
  },
  {
   "cell_type": "markdown",
   "metadata": {},
   "source": [
    "CATEGORICAL FEATURES"
   ]
  },
  {
   "cell_type": "markdown",
   "metadata": {},
   "source": [
    "There are:\n",
    " first_interaction      4612 non-null   object \n",
    "\n",
    " profile_completed      4612 non-null   object \n",
    "\n",
    " last_activity          4612 non-null   object \n",
    "\n",
    "print_media_type1      4612 non-null   object \n",
    "\n",
    " print_media_type2      4612 non-null   object \n",
    "\n",
    " digital_media          4612 non-null   object \n",
    "\n",
    "educational_channels   4612 non-null   object \n",
    "\n",
    " referral               4612 non-null   object "
   ]
  },
  {
   "cell_type": "code",
   "execution_count": 109,
   "metadata": {},
   "outputs": [
    {
     "data": {
      "text/plain": [
       "first_interaction\n",
       "Website       2542\n",
       "Mobile App    2070\n",
       "Name: count, dtype: int64"
      ]
     },
     "execution_count": 109,
     "metadata": {},
     "output_type": "execute_result"
    }
   ],
   "source": [
    "\n",
    "df['first_interaction'].value_counts()"
   ]
  },
  {
   "cell_type": "markdown",
   "metadata": {},
   "source": [
    "This will help us determine whether the first interactions are mostly by website or Mobile apps\n"
   ]
  },
  {
   "cell_type": "code",
   "execution_count": 110,
   "metadata": {},
   "outputs": [
    {
     "data": {
      "text/plain": [
       "profile_completed\n",
       "High      2264\n",
       "Medium    2241\n",
       "Low        107\n",
       "Name: count, dtype: int64"
      ]
     },
     "execution_count": 110,
     "metadata": {},
     "output_type": "execute_result"
    }
   ],
   "source": [
    "df['profile_completed'].value_counts()"
   ]
  },
  {
   "cell_type": "markdown",
   "metadata": {},
   "source": [
    "Profile completed has high, medium and low"
   ]
  },
  {
   "cell_type": "code",
   "execution_count": 111,
   "metadata": {},
   "outputs": [
    {
     "data": {
      "text/plain": [
       "last_activity\n",
       "Email Activity      2278\n",
       "Phone Activity      1234\n",
       "Website Activity    1100\n",
       "Name: count, dtype: int64"
      ]
     },
     "execution_count": 111,
     "metadata": {},
     "output_type": "execute_result"
    }
   ],
   "source": [
    "df['last_activity'].value_counts()"
   ]
  },
  {
   "cell_type": "markdown",
   "metadata": {},
   "source": [
    "Last Activity we have 3, either by email, phone or website and it seems most of the last activity is done through email"
   ]
  },
  {
   "cell_type": "code",
   "execution_count": 112,
   "metadata": {},
   "outputs": [
    {
     "data": {
      "text/plain": [
       "ID                       0\n",
       "age                      0\n",
       "current_occupation       0\n",
       "first_interaction        0\n",
       "profile_completed        0\n",
       "website_visits           0\n",
       "time_spent_on_website    0\n",
       "page_views_per_visit     0\n",
       "last_activity            0\n",
       "print_media_type1        0\n",
       "print_media_type2        0\n",
       "digital_media            0\n",
       "educational_channels     0\n",
       "referral                 0\n",
       "status                   0\n",
       "dtype: int64"
      ]
     },
     "execution_count": 112,
     "metadata": {},
     "output_type": "execute_result"
    }
   ],
   "source": [
    "#Let's check if there is any data frame that is null\n",
    "df.isnull().sum()"
   ]
  },
  {
   "cell_type": "markdown",
   "metadata": {},
   "source": [
    "For each of the columns, we do not have any null value"
   ]
  },
  {
   "cell_type": "code",
   "execution_count": 113,
   "id": "312af2d8",
   "metadata": {},
   "outputs": [
    {
     "name": "stdout",
     "output_type": "stream",
     "text": [
      "current_occupation\n",
      "Professional    0.567216\n",
      "Unemployed      0.312446\n",
      "Student         0.120338\n",
      "Name: proportion, dtype: float64\n",
      "--------------------------------------------------\n",
      "first_interaction\n",
      "Website       0.551171\n",
      "Mobile App    0.448829\n",
      "Name: proportion, dtype: float64\n",
      "--------------------------------------------------\n",
      "profile_completed\n",
      "High      0.490893\n",
      "Medium    0.485906\n",
      "Low       0.023200\n",
      "Name: proportion, dtype: float64\n",
      "--------------------------------------------------\n",
      "website_visits\n",
      "2     0.266479\n",
      "1     0.163703\n",
      "3     0.138985\n",
      "4     0.107112\n",
      "5     0.091500\n",
      "6     0.061145\n",
      "7     0.050304\n",
      "0     0.037728\n",
      "8     0.032741\n",
      "9     0.016912\n",
      "10    0.007372\n",
      "11    0.006288\n",
      "12    0.005421\n",
      "13    0.004987\n",
      "14    0.003686\n",
      "15    0.001951\n",
      "24    0.000650\n",
      "16    0.000650\n",
      "25    0.000434\n",
      "20    0.000434\n",
      "30    0.000217\n",
      "18    0.000217\n",
      "27    0.000217\n",
      "21    0.000217\n",
      "17    0.000217\n",
      "19    0.000217\n",
      "29    0.000217\n",
      "Name: proportion, dtype: float64\n",
      "--------------------------------------------------\n",
      "time_spent_on_website\n",
      "0       0.037728\n",
      "1       0.015395\n",
      "83      0.004337\n",
      "65      0.004120\n",
      "49      0.003686\n",
      "          ...   \n",
      "721     0.000217\n",
      "1540    0.000217\n",
      "1862    0.000217\n",
      "1275    0.000217\n",
      "2290    0.000217\n",
      "Name: proportion, Length: 1623, dtype: float64\n",
      "--------------------------------------------------\n",
      "page_views_per_visit\n",
      "0.000    0.039245\n",
      "2.168    0.003036\n",
      "2.154    0.002819\n",
      "2.200    0.002602\n",
      "2.170    0.002385\n",
      "           ...   \n",
      "5.793    0.000217\n",
      "4.944    0.000217\n",
      "5.624    0.000217\n",
      "1.413    0.000217\n",
      "2.692    0.000217\n",
      "Name: proportion, Length: 2414, dtype: float64\n",
      "--------------------------------------------------\n",
      "last_activity\n",
      "Email Activity      0.493929\n",
      "Phone Activity      0.267563\n",
      "Website Activity    0.238508\n",
      "Name: proportion, dtype: float64\n",
      "--------------------------------------------------\n",
      "status\n",
      "0    0.701431\n",
      "1    0.298569\n",
      "Name: proportion, dtype: float64\n",
      "--------------------------------------------------\n"
     ]
    }
   ],
   "source": [
    "#create a list of categorial columns in our dataset. Went to see by each column\n",
    "cat_col = [ 'current_occupation', 'first_interaction','profile_completed', 'website_visits','time_spent_on_website','page_views_per_visit','last_activity', 'status']\n",
    " # how many unqie values to we have and whats the unique count/frequency\n",
    "for column in cat_col:\n",
    " print(df[column].value_counts(1))\n",
    " print('-'*50)"
   ]
  },
  {
   "cell_type": "code",
   "execution_count": 114,
   "metadata": {},
   "outputs": [],
   "source": [
    "# we want to plot using matplotlib\n",
    "import matplotlib.pyplot as plt"
   ]
  },
  {
   "cell_type": "code",
   "execution_count": 115,
   "metadata": {},
   "outputs": [],
   "source": [
    "# boxplots\n",
    "# create a function called histogram_boxplot that takes our data frame\n",
    "def histogram_boxplot(data,feature,figsize=(12,7),kde=True,bins = None):\n",
    "    #create the plot so that they are uniform using matpltlib\n",
    "    figure, (ax_box,ax_hist) = plt.subplots(2,sharex=True, figsize = figsize)\n",
    "    sns.boxplot(data = data, x = feature, ax = ax_box, showmeans = True, color= 'violet')\n",
    "    # we have created a box plot \n",
    "    # now lets create a histogram\n",
    "    if bins == None:\n",
    "      sns.histplot(data = data, x = feature,kde = kde,ax = ax_hist)\n",
    "    else:\n",
    "        sns.histplot(data = data, x = feature,kde = kde,ax = ax_hist, bins = bins)\n",
    "        # it would be nice to see the mean and median too on the histogram\n",
    "        ax_hist.axvline(data[feature].mean(),color = 'green',linestyle = '--')\n",
    "        ax_hist.axvline(data[feature].median(),color ='black',linestyle ='--')"
   ]
  },
  {
   "cell_type": "code",
   "execution_count": 116,
   "metadata": {},
   "outputs": [
    {
     "data": {
      "text/html": [
       "<div>\n",
       "<style scoped>\n",
       "    .dataframe tbody tr th:only-of-type {\n",
       "        vertical-align: middle;\n",
       "    }\n",
       "\n",
       "    .dataframe tbody tr th {\n",
       "        vertical-align: top;\n",
       "    }\n",
       "\n",
       "    .dataframe thead th {\n",
       "        text-align: right;\n",
       "    }\n",
       "</style>\n",
       "<table border=\"1\" class=\"dataframe\">\n",
       "  <thead>\n",
       "    <tr style=\"text-align: right;\">\n",
       "      <th></th>\n",
       "      <th>count</th>\n",
       "      <th>mean</th>\n",
       "      <th>std</th>\n",
       "      <th>min</th>\n",
       "      <th>25%</th>\n",
       "      <th>50%</th>\n",
       "      <th>75%</th>\n",
       "      <th>max</th>\n",
       "    </tr>\n",
       "  </thead>\n",
       "  <tbody>\n",
       "    <tr>\n",
       "      <th>age</th>\n",
       "      <td>4612.0</td>\n",
       "      <td>46.201214</td>\n",
       "      <td>13.161454</td>\n",
       "      <td>18.0</td>\n",
       "      <td>36.00000</td>\n",
       "      <td>51.000</td>\n",
       "      <td>57.00000</td>\n",
       "      <td>63.000</td>\n",
       "    </tr>\n",
       "    <tr>\n",
       "      <th>website_visits</th>\n",
       "      <td>4612.0</td>\n",
       "      <td>3.566782</td>\n",
       "      <td>2.829134</td>\n",
       "      <td>0.0</td>\n",
       "      <td>2.00000</td>\n",
       "      <td>3.000</td>\n",
       "      <td>5.00000</td>\n",
       "      <td>30.000</td>\n",
       "    </tr>\n",
       "    <tr>\n",
       "      <th>time_spent_on_website</th>\n",
       "      <td>4612.0</td>\n",
       "      <td>724.011275</td>\n",
       "      <td>743.828683</td>\n",
       "      <td>0.0</td>\n",
       "      <td>148.75000</td>\n",
       "      <td>376.000</td>\n",
       "      <td>1336.75000</td>\n",
       "      <td>2537.000</td>\n",
       "    </tr>\n",
       "    <tr>\n",
       "      <th>page_views_per_visit</th>\n",
       "      <td>4612.0</td>\n",
       "      <td>3.026126</td>\n",
       "      <td>1.968125</td>\n",
       "      <td>0.0</td>\n",
       "      <td>2.07775</td>\n",
       "      <td>2.792</td>\n",
       "      <td>3.75625</td>\n",
       "      <td>18.434</td>\n",
       "    </tr>\n",
       "    <tr>\n",
       "      <th>status</th>\n",
       "      <td>4612.0</td>\n",
       "      <td>0.298569</td>\n",
       "      <td>0.457680</td>\n",
       "      <td>0.0</td>\n",
       "      <td>0.00000</td>\n",
       "      <td>0.000</td>\n",
       "      <td>1.00000</td>\n",
       "      <td>1.000</td>\n",
       "    </tr>\n",
       "  </tbody>\n",
       "</table>\n",
       "</div>"
      ],
      "text/plain": [
       "                        count        mean         std   min        25%  \\\n",
       "age                    4612.0   46.201214   13.161454  18.0   36.00000   \n",
       "website_visits         4612.0    3.566782    2.829134   0.0    2.00000   \n",
       "time_spent_on_website  4612.0  724.011275  743.828683   0.0  148.75000   \n",
       "page_views_per_visit   4612.0    3.026126    1.968125   0.0    2.07775   \n",
       "status                 4612.0    0.298569    0.457680   0.0    0.00000   \n",
       "\n",
       "                           50%         75%       max  \n",
       "age                     51.000    57.00000    63.000  \n",
       "website_visits           3.000     5.00000    30.000  \n",
       "time_spent_on_website  376.000  1336.75000  2537.000  \n",
       "page_views_per_visit     2.792     3.75625    18.434  \n",
       "status                   0.000     1.00000     1.000  "
      ]
     },
     "execution_count": 116,
     "metadata": {},
     "output_type": "execute_result"
    }
   ],
   "source": [
    "df.describe().T"
   ]
  },
  {
   "cell_type": "markdown",
   "metadata": {},
   "source": [
    "# Distribution for Age"
   ]
  },
  {
   "cell_type": "code",
   "execution_count": 117,
   "metadata": {},
   "outputs": [
    {
     "data": {
      "image/png": "[encoded data removed]",
      "text/plain": [
       "<Figure size 1200x700 with 2 Axes>"
      ]
     },
     "metadata": {},
     "output_type": "display_data"
    }
   ],
   "source": [
    "histogram_boxplot(df, \"age\", bins = 30)"
   ]
  },
  {
   "cell_type": "markdown",
   "metadata": {},
   "source": [
    "* The mean value is less than the median \n",
    "* The median is less than the mode\n",
    "* This makes the distribution left skewed\n",
    "* The color green is the mean, which is around 47.\n",
    "* The small green triangle on the box plot is the mean too\n",
    "* This shows that our average age is 47\n",
    "* The black --- is the median. Our median is around 51 years\n",
    "* There's a single x axis because we said: sharex=True meaning they should share the x axis\n",
    "* The distribution seems normally distributed \n",
    "* Our median is at the far right - seems most of the ages are less then 51\n",
    "* There are no outliers\n",
    "\n",
    "\n"
   ]
  },
  {
   "cell_type": "markdown",
   "metadata": {},
   "source": [
    "# Distribution for website visits"
   ]
  },
  {
   "cell_type": "code",
   "execution_count": 118,
   "metadata": {},
   "outputs": [
    {
     "data": {
      "image/png": "[encoded data removed]",
      "text/plain": [
       "<Figure size 1200x700 with 2 Axes>"
      ]
     },
     "metadata": {},
     "output_type": "display_data"
    }
   ],
   "source": [
    "histogram_boxplot(df, \"website_visits\", bins = 30)"
   ]
  },
  {
   "cell_type": "markdown",
   "metadata": {},
   "source": [
    "* The color green is the mean - The small green triangle on the box plot is the mean too\n",
    "* The black --- is the median. *\n",
    "* when the mean is more than the median which is more than the mode (the most frequent)..This become right skewed \n",
    "* The average number of times a lead has visited the website is 4 times, whilst the median is 3 times\n",
    "* The median and mean values are close to each other\n",
    "* Very few people visit it more that 10 times. After 10 times those are now outliers\n",
    "* The maximum is \n",
    "* The minimum is 0 times whilst the most to visit is 30 times, which is a very huge difference\n",
    "\n"
   ]
  },
  {
   "cell_type": "markdown",
   "metadata": {},
   "source": [
    "# Distribution for time spent on website"
   ]
  },
  {
   "cell_type": "code",
   "execution_count": 119,
   "metadata": {},
   "outputs": [
    {
     "data": {
      "image/png": "[encoded data removed]",
      "text/plain": [
       "<Figure size 1200x700 with 2 Axes>"
      ]
     },
     "metadata": {},
     "output_type": "display_data"
    }
   ],
   "source": [
    "histogram_boxplot(df, \"time_spent_on_website\", bins = 30)"
   ]
  },
  {
   "cell_type": "markdown",
   "metadata": {},
   "source": [
    "* The color green is the mean - The small green triangle on the box plot is the mean too\n",
    "* The black --- is the median. \n",
    "* The mean is greater than the median\n",
    "* The median is greater than the mode\n",
    "* The disbrution is skewed to the right\n",
    "* Hence this distribution  is right \n",
    "* The average time spent on the website is around 724 secs which is about 12 minutes\n",
    "* The most frequent number of seconds about 900 seconds (15 mins )\n",
    "* The biggest time spent on the website is 2500 secs (41 mins)\n",
    "\n",
    "\n"
   ]
  },
  {
   "cell_type": "markdown",
   "metadata": {},
   "source": [
    "# Distribution for page views per visit"
   ]
  },
  {
   "cell_type": "code",
   "execution_count": 120,
   "metadata": {},
   "outputs": [
    {
     "data": {
      "image/png": "[encoded data removed]",
      "text/plain": [
       "<Figure size 1200x700 with 2 Axes>"
      ]
     },
     "metadata": {},
     "output_type": "display_data"
    }
   ],
   "source": [
    "histogram_boxplot(df, \"page_views_per_visit\", bins = 30)"
   ]
  },
  {
   "cell_type": "markdown",
   "metadata": {},
   "source": [
    "* The color green is the mean, which is around 47.\n",
    "* mode is the peak of the distribution\n",
    "* The small green triangle on the box plot is the mean too\n",
    "* This shows that our average age is 47\n",
    "* The black --- is the median. Our median is around 51 years\n",
    "* The mean is slightly greater than the median\n",
    "* The median is greater than the mode\n",
    "* when the mean is more than the median which is more than the mode (the most frequent)..This become right skewed \n",
    "* The mean and mode are close to each other\n",
    "* The average page views per visit is around 3 pages\n",
    "* Most maximum number of pages visited is 18\n",
    "* We have outliers which start from 6 page views per visit, which means there are very few people that exceed 6 pages per visit"
   ]
  },
  {
   "cell_type": "code",
   "execution_count": 164,
   "metadata": {},
   "outputs": [
    {
     "data": {
      "image/png": "[encoded data removed]",
      "text/plain": [
       "<Figure size 1200x700 with 2 Axes>"
      ]
     },
     "metadata": {},
     "output_type": "display_data"
    }
   ],
   "source": [
    "histogram_boxplot(df, \"page_views_per_visit\", bins = 30)"
   ]
  },
  {
   "cell_type": "markdown",
   "metadata": {},
   "source": [
    "# Bivariate Analysis"
   ]
  },
  {
   "cell_type": "markdown",
   "metadata": {},
   "source": [
    "Correlation Tables"
   ]
  },
  {
   "cell_type": "code",
   "execution_count": 125,
   "metadata": {},
   "outputs": [
    {
     "data": {
      "text/html": [
       "<div>\n",
       "<style scoped>\n",
       "    .dataframe tbody tr th:only-of-type {\n",
       "        vertical-align: middle;\n",
       "    }\n",
       "\n",
       "    .dataframe tbody tr th {\n",
       "        vertical-align: top;\n",
       "    }\n",
       "\n",
       "    .dataframe thead th {\n",
       "        text-align: right;\n",
       "    }\n",
       "</style>\n",
       "<table border=\"1\" class=\"dataframe\">\n",
       "  <thead>\n",
       "    <tr style=\"text-align: right;\">\n",
       "      <th></th>\n",
       "      <th>ID</th>\n",
       "      <th>age</th>\n",
       "      <th>current_occupation</th>\n",
       "      <th>first_interaction</th>\n",
       "      <th>profile_completed</th>\n",
       "      <th>website_visits</th>\n",
       "      <th>time_spent_on_website</th>\n",
       "      <th>page_views_per_visit</th>\n",
       "      <th>last_activity</th>\n",
       "      <th>print_media_type1</th>\n",
       "      <th>print_media_type2</th>\n",
       "      <th>digital_media</th>\n",
       "      <th>educational_channels</th>\n",
       "      <th>referral</th>\n",
       "      <th>status</th>\n",
       "    </tr>\n",
       "  </thead>\n",
       "  <tbody>\n",
       "    <tr>\n",
       "      <th>0</th>\n",
       "      <td>EXT001</td>\n",
       "      <td>57</td>\n",
       "      <td>Unemployed</td>\n",
       "      <td>Website</td>\n",
       "      <td>High</td>\n",
       "      <td>7</td>\n",
       "      <td>1639</td>\n",
       "      <td>1.861</td>\n",
       "      <td>Website Activity</td>\n",
       "      <td>Yes</td>\n",
       "      <td>No</td>\n",
       "      <td>Yes</td>\n",
       "      <td>No</td>\n",
       "      <td>No</td>\n",
       "      <td>1</td>\n",
       "    </tr>\n",
       "    <tr>\n",
       "      <th>1</th>\n",
       "      <td>EXT002</td>\n",
       "      <td>56</td>\n",
       "      <td>Professional</td>\n",
       "      <td>Mobile App</td>\n",
       "      <td>Medium</td>\n",
       "      <td>2</td>\n",
       "      <td>83</td>\n",
       "      <td>0.320</td>\n",
       "      <td>Website Activity</td>\n",
       "      <td>No</td>\n",
       "      <td>No</td>\n",
       "      <td>No</td>\n",
       "      <td>Yes</td>\n",
       "      <td>No</td>\n",
       "      <td>0</td>\n",
       "    </tr>\n",
       "  </tbody>\n",
       "</table>\n",
       "</div>"
      ],
      "text/plain": [
       "       ID  age current_occupation first_interaction profile_completed  \\\n",
       "0  EXT001   57         Unemployed           Website              High   \n",
       "1  EXT002   56       Professional        Mobile App            Medium   \n",
       "\n",
       "   website_visits  time_spent_on_website  page_views_per_visit  \\\n",
       "0               7                   1639                 1.861   \n",
       "1               2                     83                 0.320   \n",
       "\n",
       "      last_activity print_media_type1 print_media_type2 digital_media  \\\n",
       "0  Website Activity               Yes                No           Yes   \n",
       "1  Website Activity                No                No            No   \n",
       "\n",
       "  educational_channels referral  status  \n",
       "0                   No       No       1  \n",
       "1                  Yes       No       0  "
      ]
     },
     "execution_count": 125,
     "metadata": {},
     "output_type": "execute_result"
    }
   ],
   "source": [
    "# let's look at the dataframe again\n",
    "df.head(2)"
   ]
  },
  {
   "cell_type": "code",
   "execution_count": 143,
   "metadata": {},
   "outputs": [],
   "source": [
    "\n",
    "df = df.select_dtypes(exclude=[object])"
   ]
  },
  {
   "cell_type": "code",
   "execution_count": 144,
   "metadata": {},
   "outputs": [
    {
     "data": {
      "text/html": [
       "<div>\n",
       "<style scoped>\n",
       "    .dataframe tbody tr th:only-of-type {\n",
       "        vertical-align: middle;\n",
       "    }\n",
       "\n",
       "    .dataframe tbody tr th {\n",
       "        vertical-align: top;\n",
       "    }\n",
       "\n",
       "    .dataframe thead th {\n",
       "        text-align: right;\n",
       "    }\n",
       "</style>\n",
       "<table border=\"1\" class=\"dataframe\">\n",
       "  <thead>\n",
       "    <tr style=\"text-align: right;\">\n",
       "      <th></th>\n",
       "      <th>age</th>\n",
       "      <th>website_visits</th>\n",
       "      <th>time_spent_on_website</th>\n",
       "      <th>page_views_per_visit</th>\n",
       "      <th>status</th>\n",
       "    </tr>\n",
       "  </thead>\n",
       "  <tbody>\n",
       "    <tr>\n",
       "      <th>age</th>\n",
       "      <td>1.000000</td>\n",
       "      <td>-0.011975</td>\n",
       "      <td>0.018885</td>\n",
       "      <td>-0.040675</td>\n",
       "      <td>0.122084</td>\n",
       "    </tr>\n",
       "    <tr>\n",
       "      <th>website_visits</th>\n",
       "      <td>-0.011975</td>\n",
       "      <td>1.000000</td>\n",
       "      <td>0.062300</td>\n",
       "      <td>0.074094</td>\n",
       "      <td>-0.006609</td>\n",
       "    </tr>\n",
       "    <tr>\n",
       "      <th>time_spent_on_website</th>\n",
       "      <td>0.018885</td>\n",
       "      <td>0.062300</td>\n",
       "      <td>1.000000</td>\n",
       "      <td>0.068130</td>\n",
       "      <td>0.302100</td>\n",
       "    </tr>\n",
       "    <tr>\n",
       "      <th>page_views_per_visit</th>\n",
       "      <td>-0.040675</td>\n",
       "      <td>0.074094</td>\n",
       "      <td>0.068130</td>\n",
       "      <td>1.000000</td>\n",
       "      <td>0.000307</td>\n",
       "    </tr>\n",
       "    <tr>\n",
       "      <th>status</th>\n",
       "      <td>0.122084</td>\n",
       "      <td>-0.006609</td>\n",
       "      <td>0.302100</td>\n",
       "      <td>0.000307</td>\n",
       "      <td>1.000000</td>\n",
       "    </tr>\n",
       "  </tbody>\n",
       "</table>\n",
       "</div>"
      ],
      "text/plain": [
       "                            age  website_visits  time_spent_on_website  \\\n",
       "age                    1.000000       -0.011975               0.018885   \n",
       "website_visits        -0.011975        1.000000               0.062300   \n",
       "time_spent_on_website  0.018885        0.062300               1.000000   \n",
       "page_views_per_visit  -0.040675        0.074094               0.068130   \n",
       "status                 0.122084       -0.006609               0.302100   \n",
       "\n",
       "                       page_views_per_visit    status  \n",
       "age                               -0.040675  0.122084  \n",
       "website_visits                     0.074094 -0.006609  \n",
       "time_spent_on_website              0.068130  0.302100  \n",
       "page_views_per_visit               1.000000  0.000307  \n",
       "status                             0.000307  1.000000  "
      ]
     },
     "execution_count": 144,
     "metadata": {},
     "output_type": "execute_result"
    }
   ],
   "source": [
    "df.corr() \n",
    "#data.corr() will automatically identify numeric variables"
   ]
  },
  {
   "cell_type": "code",
   "execution_count": 147,
   "metadata": {},
   "outputs": [
    {
     "data": {
      "text/plain": [
       "<Axes: >"
      ]
     },
     "execution_count": 147,
     "metadata": {},
     "output_type": "execute_result"
    },
    {
     "data": {
      "image/png": "[encoded data removed]",
      "text/plain": [
       "<Figure size 640x480 with 2 Axes>"
      ]
     },
     "metadata": {},
     "output_type": "display_data"
    }
   ],
   "source": [
    "# we want extreme values to have different colors, so we will use a heatmap. This will give us some colors and present it as a figure\n",
    "sns.heatmap(df.corr(),annot = True,cmap = 'Spectral',vmin=-1,vmax=1)"
   ]
  },
  {
   "cell_type": "markdown",
   "metadata": {},
   "source": [
    "* 1 is extreme correlation\n",
    "* If you realise, every variable with itself has a perfect correlation\n",
    "* Correlations start with -1 all the way to 1\n",
    "* The highest corelation that we have is 0.3 followed by 0.12\n",
    "* There is a 0.3 correlation between the status of a lead and time spent on website which is slightly below 0.5\n",
    "* It seems that the more time you spend on the website, the likely it is that the lead will buy\n",
    "* There is a 0.12 correlation between age and status"
   ]
  },
  {
   "cell_type": "markdown",
   "metadata": {},
   "source": [
    "# Categorical Variables"
   ]
  },
  {
   "cell_type": "markdown",
   "metadata": {},
   "source": [
    "**Questions**\n",
    "1. Leads will have different expectations from the outcome of the course and the current occupation may play a key role in getting them to participate in the program. Find out how current occupation affects lead status.\n",
    "2. The company's first impression on the customer must have an impact. Do the first channels of interaction have an impact on the lead status? \n",
    "3. The company uses multiple modes to interact with prospects. Which way of interaction works best? \n",
    "4. The company gets leads from various channels such as print media, digital media, referrals, etc. Which of these channels have the highest lead conversion rate?\n",
    "5. People browsing the website or mobile application are generally required to create a profile by sharing their personal data before they can access additional information.Does having more details about a prospect increase the chances of conversion?"
   ]
  },
  {
   "cell_type": "code",
   "execution_count": 153,
   "metadata": {},
   "outputs": [],
   "source": [
    "df = pd.read_csv(\"ExtraaLearn.csv\")"
   ]
  },
  {
   "cell_type": "code",
   "execution_count": 154,
   "id": "82e061a4",
   "metadata": {},
   "outputs": [
    {
     "data": {
      "text/plain": [
       "<Axes: xlabel='status', ylabel='current_occupation'>"
      ]
     },
     "execution_count": 154,
     "metadata": {},
     "output_type": "execute_result"
    },
    {
     "data": {
      "image/png": "[encoded data removed]",
      "text/plain": [
       "<Figure size 640x480 with 1 Axes>"
      ]
     },
     "metadata": {},
     "output_type": "display_data"
    }
   ],
   "source": [
    "# let's look at some of the categorial variables\n",
    "# How does current occupation affect lead status\n",
    "sns.barplot(x = \"status\", y = \"current_occupation\", data = df)\n",
    "# Professionals seem to eventually convert to a paying lead, whilst student don't buy much, probably because they cannot afford\n",
    "# the unemployed also turn to buying customers probably because they have nothing to do hence they have all th etime to learn"
   ]
  },
  {
   "cell_type": "markdown",
   "metadata": {},
   "source": [
    "* Students have the lowest in terms of buying, only about 11% of students convert to paying customers\n",
    "* The most paying customers are the professionals, most probably because they can afford, compaed to students\n",
    "* About 26% of the unemployed convert to paying customers most probably because they have the time to study and learn"
   ]
  },
  {
   "cell_type": "code",
   "execution_count": 162,
   "metadata": {},
   "outputs": [],
   "source": [
    "def stacked_barplot(data,predictor,target):\n",
    "    count = data[predictor].nunique()\n",
    "    sorter = data[target].value_counts().index[-1]\n",
    "    tab1 = pd.crosstab(data[predictor],data[target]).sort_values(by=sorter,ascending=False)\n",
    "    print(tab1)"
   ]
  },
  {
   "cell_type": "code",
   "execution_count": 163,
   "metadata": {},
   "outputs": [
    {
     "name": "stdout",
     "output_type": "stream",
     "text": [
      "first_interaction   Mobile App  Website\n",
      "current_occupation                     \n",
      "Professional              1191     1425\n",
      "Unemployed                 642      799\n",
      "Student                    237      318\n"
     ]
    }
   ],
   "source": [
    "stacked_barplot(df,'current_occupation','first_interaction')"
   ]
  },
  {
   "cell_type": "markdown",
   "id": "4f43070d",
   "metadata": {},
   "source": []
  },
  {
   "cell_type": "code",
   "execution_count": 123,
   "id": "3b767659",
   "metadata": {},
   "outputs": [
    {
     "data": {
      "text/plain": [
       "<Axes: xlabel='status', ylabel='first_interaction'>"
      ]
     },
     "execution_count": 123,
     "metadata": {},
     "output_type": "execute_result"
    },
    {
     "data": {
      "image/png": "[encoded data removed]",
      "text/plain": [
       "<Figure size 640x480 with 1 Axes>"
      ]
     },
     "metadata": {},
     "output_type": "display_data"
    }
   ],
   "source": [
    "# Do the first channels of interaction have an impact on the lead status?\n",
    "sns.barplot(x = \"status\", y = \"first_interaction\", data=df)\n",
    "# Those whose fist interaction is the website are most likely to buy than those using mobile app\n",
    "# On average the person who is likel to buy first interacted with the website\n",
    "# There is a significance difference that shows between the two\n"
   ]
  },
  {
   "cell_type": "code",
   "execution_count": 124,
   "id": "f2533796",
   "metadata": {},
   "outputs": [],
   "source": [
    "#data.corr()"
   ]
  },
  {
   "cell_type": "markdown",
   "id": "alleged-spirituality",
   "metadata": {
    "id": "alleged-spirituality"
   },
   "source": [
    "## Data Preprocessing\n",
    "\n",
    "- Missing value treatment (if needed)\n",
    "- Feature engineering (if needed)\n",
    "- Outlier detection and treatment (if needed)\n",
    "- Preparing data for modeling \n",
    "- Any other preprocessing steps (if needed)"
   ]
  },
  {
   "cell_type": "code",
   "execution_count": null,
   "id": "increasing-louisiana",
   "metadata": {
    "id": "increasing-louisiana"
   },
   "outputs": [],
   "source": []
  },
  {
   "cell_type": "markdown",
   "id": "difficult-union",
   "metadata": {
    "id": "difficult-union"
   },
   "source": [
    "## EDA\n",
    "\n",
    "- It is a good idea to explore the data once again after manipulating it."
   ]
  },
  {
   "cell_type": "code",
   "execution_count": null,
   "id": "interested-talent",
   "metadata": {
    "id": "interested-talent"
   },
   "outputs": [],
   "source": []
  },
  {
   "cell_type": "markdown",
   "id": "amazing-fluid",
   "metadata": {
    "id": "amazing-fluid"
   },
   "source": [
    "## Building a Decision Tree model"
   ]
  },
  {
   "cell_type": "code",
   "execution_count": null,
   "id": "neither-hydrogen",
   "metadata": {
    "id": "neither-hydrogen"
   },
   "outputs": [],
   "source": []
  },
  {
   "cell_type": "markdown",
   "id": "limited-strengthening",
   "metadata": {
    "id": "limited-strengthening"
   },
   "source": [
    "## Do we need to prune the tree?"
   ]
  },
  {
   "cell_type": "code",
   "execution_count": null,
   "id": "ambient-elements",
   "metadata": {
    "id": "ambient-elements"
   },
   "outputs": [],
   "source": []
  },
  {
   "cell_type": "markdown",
   "id": "a8c47c07",
   "metadata": {
    "id": "amazing-fluid"
   },
   "source": [
    "## Building a Random Forest model"
   ]
  },
  {
   "cell_type": "code",
   "execution_count": null,
   "id": "8bbd87fb",
   "metadata": {},
   "outputs": [],
   "source": []
  },
  {
   "cell_type": "markdown",
   "id": "11bc14ca",
   "metadata": {},
   "source": [
    "## Do we need to prune the tree?"
   ]
  },
  {
   "cell_type": "code",
   "execution_count": null,
   "id": "65f89cc9",
   "metadata": {},
   "outputs": [],
   "source": []
  },
  {
   "cell_type": "markdown",
   "id": "nasty-retailer",
   "metadata": {
    "id": "nasty-retailer"
   },
   "source": [
    "## Actionable Insights and Recommendations"
   ]
  },
  {
   "cell_type": "code",
   "execution_count": null,
   "metadata": {},
   "outputs": [],
   "source": []
  }
 ],
 "metadata": {
  "colab": {
   "collapsed_sections": [],
   "name": "ExtraaLearn_Project_Template_Notebook.ipynb",
   "provenance": []
  },
  "kernelspec": {
   "display_name": "Python 3 (ipykernel)",
   "language": "python",
   "name": "python3"
  },
  "language_info": {
   "codemirror_mode": {
    "name": "ipython",
    "version": 3
   },
   "file_extension": ".py",
   "mimetype": "text/x-python",
   "name": "python",
   "nbconvert_exporter": "python",
   "pygments_lexer": "ipython3",
   "version": "3.11.5"
  }
 },
 "nbformat": 4,
 "nbformat_minor": 5
}
