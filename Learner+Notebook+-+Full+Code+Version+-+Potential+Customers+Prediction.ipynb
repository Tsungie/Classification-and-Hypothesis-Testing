{
 "cells": [
  {
   "cell_type": "markdown",
   "id": "AT5OogJVFbwu",
   "metadata": {
    "id": "AT5OogJVFbwu"
   },
   "source": [
    "# ExtraaLearn Project\n",
    "\n",
    "## Context\n",
    "\n",
    "The EdTech industry has been surging in the past decade immensely, and according to a forecast, the Online Education market would be worth $286.62bn by 2023 with a compound annual growth rate (CAGR) of 10.26% from 2018 to 2023. The modern era of online education has enforced a lot in its growth and expansion beyond any limit. Due to having many dominant features like ease of information sharing, personalized learning experience, transparency of assessment, etc, it is now preferable to traditional education. \n",
    "\n",
    "In the present scenario due to the Covid-19, the online education sector has witnessed rapid growth and is attracting a lot of new customers. Due to this rapid growth, many new companies have emerged in this industry. With the availability and ease of use of digital marketing resources, companies can reach out to a wider audience with their offerings. The customers who show interest in these offerings are termed as leads. There are various sources of obtaining leads for Edtech companies, like\n",
    "\n",
    "* The customer interacts with the marketing front on social media or other online platforms. \n",
    "* The customer browses the website/app and downloads the brochure\n",
    "* The customer connects through emails for more information.\n",
    "\n",
    "The company then nurtures these leads and tries to convert them to paid customers. For this, the representative from the organization connects with the lead on call or through email to share further details.\n",
    "\n",
    "## Objective\n",
    "\n",
    "ExtraaLearn is an initial stage startup that offers programs on cutting-edge technologies to students and professionals to help them upskill/reskill. With a large number of leads being generated on a regular basis, one of the issues faced by ExtraaLearn is to identify which of the leads are more likely to convert so that they can allocate resources accordingly. You, as a data scientist at ExtraaLearn, have been provided the leads data to:\n",
    "* Analyze and build an ML model to help identify which leads are more likely to convert to paid customers, \n",
    "* Find the factors driving the lead conversion process\n",
    "* Create a profile of the leads which are likely to convert\n",
    "\n",
    "\n",
    "## Data Description\n",
    "\n",
    "The data contains the different attributes of leads and their interaction details with ExtraaLearn. The detailed data dictionary is given below.\n",
    "\n",
    "\n",
    "**Data Dictionary**\n",
    "* ID: ID of the lead\n",
    "* age: Age of the lead\n",
    "* current_occupation: Current occupation of the lead. Values include 'Professional','Unemployed',and 'Student'\n",
    "* first_interaction: How did the lead first interacted with ExtraaLearn. Values include 'Website', 'Mobile App'\n",
    "* profile_completed: What percentage of profile has been filled by the lead on the website/mobile app. Values include Low - (0-50%), Medium - (50-75%), High (75-100%)\n",
    "* website_visits: How many times has a lead visited the website\n",
    "* time_spent_on_website: Total time spent on the website\n",
    "* page_views_per_visit: Average number of pages on the website viewed during the visits.\n",
    "* last_activity: Last interaction between the lead and ExtraaLearn. \n",
    "    * Email Activity: Seeking for details about program through email, Representative shared information with lead like brochure of program , etc \n",
    "    * Phone Activity: Had a Phone Conversation with representative, Had conversation over SMS with representative, etc\n",
    "    * Website Activity: Interacted on live chat with representative, Updated profile on website, etc\n",
    "\n",
    "* print_media_type1: Flag indicating whether the lead had seen the ad of ExtraaLearn in the Newspaper.\n",
    "* print_media_type2: Flag indicating whether the lead had seen the ad of ExtraaLearn in the Magazine.\n",
    "* digital_media: Flag indicating whether the lead had seen the ad of ExtraaLearn on the digital platforms.\n",
    "* educational_channels: Flag indicating whether the lead had heard about ExtraaLearn in the education channels like online forums, discussion threads, educational websites, etc.\n",
    "* referral: Flag indicating whether the lead had heard about ExtraaLearn through reference.\n",
    "* status: Flag indicating whether the lead was converted to a paid customer or not."
   ]
  },
  {
   "cell_type": "markdown",
   "id": "dirty-island",
   "metadata": {
    "id": "dirty-island"
   },
   "source": [
    "## Importing necessary libraries and data"
   ]
  },
  {
   "cell_type": "code",
   "execution_count": 1,
   "id": "statewide-still",
   "metadata": {
    "id": "statewide-still"
   },
   "outputs": [],
   "source": [
    "import pandas as pd\n",
    "import seaborn as sns\n",
    "\n",
    "# to supress warnings\n",
    "import warnings\n",
    "warnings.filterwarnings(\"ignore\")\n",
    "\n",
    "# pandas display - set the maximum number of columns\n",
    "pd.set_option(\"display.max_columns\", None)\n",
    "# set the maximum number of rows\n",
    "pd.set_option(\"display.max_rows\", 200)\n",
    "#import the data\n",
    "data = pd.read_csv(\"ExtraaLearn.csv\")"
   ]
  },
  {
   "cell_type": "markdown",
   "id": "desperate-infection",
   "metadata": {
    "id": "desperate-infection"
   },
   "source": [
    "## Data Overview\n",
    "\n",
    "- Observations\n",
    "- Sanity checks"
   ]
  },
  {
   "cell_type": "code",
   "execution_count": 3,
   "id": "persistent-juice",
   "metadata": {
    "id": "persistent-juice"
   },
   "outputs": [
    {
     "data": {
      "text/html": [
       "<div>\n",
       "<style scoped>\n",
       "    .dataframe tbody tr th:only-of-type {\n",
       "        vertical-align: middle;\n",
       "    }\n",
       "\n",
       "    .dataframe tbody tr th {\n",
       "        vertical-align: top;\n",
       "    }\n",
       "\n",
       "    .dataframe thead th {\n",
       "        text-align: right;\n",
       "    }\n",
       "</style>\n",
       "<table border=\"1\" class=\"dataframe\">\n",
       "  <thead>\n",
       "    <tr style=\"text-align: right;\">\n",
       "      <th></th>\n",
       "      <th>ID</th>\n",
       "      <th>age</th>\n",
       "      <th>current_occupation</th>\n",
       "      <th>first_interaction</th>\n",
       "      <th>profile_completed</th>\n",
       "      <th>website_visits</th>\n",
       "      <th>time_spent_on_website</th>\n",
       "      <th>page_views_per_visit</th>\n",
       "      <th>last_activity</th>\n",
       "      <th>print_media_type1</th>\n",
       "      <th>print_media_type2</th>\n",
       "      <th>digital_media</th>\n",
       "      <th>educational_channels</th>\n",
       "      <th>referral</th>\n",
       "      <th>status</th>\n",
       "    </tr>\n",
       "  </thead>\n",
       "  <tbody>\n",
       "    <tr>\n",
       "      <th>0</th>\n",
       "      <td>EXT001</td>\n",
       "      <td>57</td>\n",
       "      <td>Unemployed</td>\n",
       "      <td>Website</td>\n",
       "      <td>High</td>\n",
       "      <td>7</td>\n",
       "      <td>1639</td>\n",
       "      <td>1.861</td>\n",
       "      <td>Website Activity</td>\n",
       "      <td>Yes</td>\n",
       "      <td>No</td>\n",
       "      <td>Yes</td>\n",
       "      <td>No</td>\n",
       "      <td>No</td>\n",
       "      <td>1</td>\n",
       "    </tr>\n",
       "    <tr>\n",
       "      <th>1</th>\n",
       "      <td>EXT002</td>\n",
       "      <td>56</td>\n",
       "      <td>Professional</td>\n",
       "      <td>Mobile App</td>\n",
       "      <td>Medium</td>\n",
       "      <td>2</td>\n",
       "      <td>83</td>\n",
       "      <td>0.320</td>\n",
       "      <td>Website Activity</td>\n",
       "      <td>No</td>\n",
       "      <td>No</td>\n",
       "      <td>No</td>\n",
       "      <td>Yes</td>\n",
       "      <td>No</td>\n",
       "      <td>0</td>\n",
       "    </tr>\n",
       "    <tr>\n",
       "      <th>2</th>\n",
       "      <td>EXT003</td>\n",
       "      <td>52</td>\n",
       "      <td>Professional</td>\n",
       "      <td>Website</td>\n",
       "      <td>Medium</td>\n",
       "      <td>3</td>\n",
       "      <td>330</td>\n",
       "      <td>0.074</td>\n",
       "      <td>Website Activity</td>\n",
       "      <td>No</td>\n",
       "      <td>No</td>\n",
       "      <td>Yes</td>\n",
       "      <td>No</td>\n",
       "      <td>No</td>\n",
       "      <td>0</td>\n",
       "    </tr>\n",
       "    <tr>\n",
       "      <th>3</th>\n",
       "      <td>EXT004</td>\n",
       "      <td>53</td>\n",
       "      <td>Unemployed</td>\n",
       "      <td>Website</td>\n",
       "      <td>High</td>\n",
       "      <td>4</td>\n",
       "      <td>464</td>\n",
       "      <td>2.057</td>\n",
       "      <td>Website Activity</td>\n",
       "      <td>No</td>\n",
       "      <td>No</td>\n",
       "      <td>No</td>\n",
       "      <td>No</td>\n",
       "      <td>No</td>\n",
       "      <td>1</td>\n",
       "    </tr>\n",
       "    <tr>\n",
       "      <th>4</th>\n",
       "      <td>EXT005</td>\n",
       "      <td>23</td>\n",
       "      <td>Student</td>\n",
       "      <td>Website</td>\n",
       "      <td>High</td>\n",
       "      <td>4</td>\n",
       "      <td>600</td>\n",
       "      <td>16.914</td>\n",
       "      <td>Email Activity</td>\n",
       "      <td>No</td>\n",
       "      <td>No</td>\n",
       "      <td>No</td>\n",
       "      <td>No</td>\n",
       "      <td>No</td>\n",
       "      <td>0</td>\n",
       "    </tr>\n",
       "  </tbody>\n",
       "</table>\n",
       "</div>"
      ],
      "text/plain": [
       "       ID  age current_occupation first_interaction profile_completed  \\\n",
       "0  EXT001   57         Unemployed           Website              High   \n",
       "1  EXT002   56       Professional        Mobile App            Medium   \n",
       "2  EXT003   52       Professional           Website            Medium   \n",
       "3  EXT004   53         Unemployed           Website              High   \n",
       "4  EXT005   23            Student           Website              High   \n",
       "\n",
       "   website_visits  time_spent_on_website  page_views_per_visit  \\\n",
       "0               7                   1639                 1.861   \n",
       "1               2                     83                 0.320   \n",
       "2               3                    330                 0.074   \n",
       "3               4                    464                 2.057   \n",
       "4               4                    600                16.914   \n",
       "\n",
       "      last_activity print_media_type1 print_media_type2 digital_media  \\\n",
       "0  Website Activity               Yes                No           Yes   \n",
       "1  Website Activity                No                No            No   \n",
       "2  Website Activity                No                No           Yes   \n",
       "3  Website Activity                No                No            No   \n",
       "4    Email Activity                No                No            No   \n",
       "\n",
       "  educational_channels referral  status  \n",
       "0                   No       No       1  \n",
       "1                  Yes       No       0  \n",
       "2                   No       No       0  \n",
       "3                   No       No       1  \n",
       "4                   No       No       0  "
      ]
     },
     "execution_count": 3,
     "metadata": {},
     "output_type": "execute_result"
    }
   ],
   "source": [
    "#we don't want to overwrite the original data frame\n",
    "same_data = data.copy()\n",
    "same_data\n",
    "#by default it will display the first 5 and the last 5 rows\n",
    "#from what it shows, we have 4612  rows and 15  columns\n",
    "#let's inspect the data that we have\n",
    "\n",
    "data.head()"
   ]
  },
  {
   "cell_type": "code",
   "execution_count": 5,
   "id": "f1c597bb",
   "metadata": {},
   "outputs": [
    {
     "data": {
      "text/plain": [
       "(4612, 15)"
      ]
     },
     "execution_count": 5,
     "metadata": {},
     "output_type": "execute_result"
    }
   ],
   "source": [
    "# we can also use data.shape to see the number pf rows and columns\n",
    "#the first number shows rows, and the second one columns (4612 rows and 15 columns)\n",
    "data.shape"
   ]
  },
  {
   "cell_type": "code",
   "execution_count": 6,
   "id": "d7de70b3",
   "metadata": {},
   "outputs": [
    {
     "name": "stdout",
     "output_type": "stream",
     "text": [
      "<class 'pandas.core.frame.DataFrame'>\n",
      "RangeIndex: 4612 entries, 0 to 4611\n",
      "Data columns (total 15 columns):\n",
      " #   Column                 Non-Null Count  Dtype  \n",
      "---  ------                 --------------  -----  \n",
      " 0   ID                     4612 non-null   object \n",
      " 1   age                    4612 non-null   int64  \n",
      " 2   current_occupation     4612 non-null   object \n",
      " 3   first_interaction      4612 non-null   object \n",
      " 4   profile_completed      4612 non-null   object \n",
      " 5   website_visits         4612 non-null   int64  \n",
      " 6   time_spent_on_website  4612 non-null   int64  \n",
      " 7   page_views_per_visit   4612 non-null   float64\n",
      " 8   last_activity          4612 non-null   object \n",
      " 9   print_media_type1      4612 non-null   object \n",
      " 10  print_media_type2      4612 non-null   object \n",
      " 11  digital_media          4612 non-null   object \n",
      " 12  educational_channels   4612 non-null   object \n",
      " 13  referral               4612 non-null   object \n",
      " 14  status                 4612 non-null   int64  \n",
      "dtypes: float64(1), int64(4), object(10)\n",
      "memory usage: 540.6+ KB\n"
     ]
    }
   ],
   "source": [
    "# checking for missing values and the data types that we have\n",
    "data.info()\n",
    "#mostly strings are treated as object variables\n",
    "# we have 4612 rows, which shows that there are no missing values\n",
    "# Our data type shows that we have : \n",
    "# 1 float ( page_views_per_visit)\n",
    "# 4 int types\n",
    "# and 10 string types"
   ]
  },
  {
   "cell_type": "code",
   "execution_count": 7,
   "id": "fee0b340",
   "metadata": {},
   "outputs": [
    {
     "data": {
      "text/plain": [
       "0       False\n",
       "1       False\n",
       "2       False\n",
       "3       False\n",
       "4       False\n",
       "        ...  \n",
       "4607    False\n",
       "4608    False\n",
       "4609    False\n",
       "4610    False\n",
       "4611    False\n",
       "Length: 4612, dtype: bool"
      ]
     },
     "execution_count": 7,
     "metadata": {},
     "output_type": "execute_result"
    }
   ],
   "source": [
    "#verify if there are any duplicates\n",
    "data.duplicated()\n",
    "# our dataset shows  no duplicates as it shows False"
   ]
  },
  {
   "cell_type": "markdown",
   "id": "seasonal-calibration",
   "metadata": {
    "id": "seasonal-calibration"
   },
   "source": [
    "## Exploratory Data Analysis (EDA)\n",
    "\n",
    "- EDA is an important part of any project involving data.\n",
    "- It is important to investigate and understand the data better before building a model with it.\n",
    "- A few questions have been mentioned below which will help you approach the analysis in the right manner and generate insights from the data.\n",
    "- A thorough analysis of the data, in addition to the questions mentioned below, should be done."
   ]
  },
  {
   "cell_type": "markdown",
   "id": "approved-brother",
   "metadata": {
    "id": "approved-brother"
   },
   "source": [
    "**Questions**\n",
    "1. Leads will have different expectations from the outcome of the course and the current occupation may play a key role in getting them to participate in the program. Find out how current occupation affects lead status.\n",
    "2. The company's first impression on the customer must have an impact. Do the first channels of interaction have an impact on the lead status? \n",
    "3. The company uses multiple modes to interact with prospects. Which way of interaction works best? \n",
    "4. The company gets leads from various channels such as print media, digital media, referrals, etc. Which of these channels have the highest lead conversion rate?\n",
    "5. People browsing the website or mobile application are generally required to create a profile by sharing their personal data before they can access additional information.Does having more details about a prospect increase the chances of conversion?"
   ]
  },
  {
   "cell_type": "code",
   "execution_count": 8,
   "id": "ed5b192c",
   "metadata": {},
   "outputs": [
    {
     "data": {
      "text/html": [
       "<div>\n",
       "<style scoped>\n",
       "    .dataframe tbody tr th:only-of-type {\n",
       "        vertical-align: middle;\n",
       "    }\n",
       "\n",
       "    .dataframe tbody tr th {\n",
       "        vertical-align: top;\n",
       "    }\n",
       "\n",
       "    .dataframe thead th {\n",
       "        text-align: right;\n",
       "    }\n",
       "</style>\n",
       "<table border=\"1\" class=\"dataframe\">\n",
       "  <thead>\n",
       "    <tr style=\"text-align: right;\">\n",
       "      <th></th>\n",
       "      <th>count</th>\n",
       "      <th>mean</th>\n",
       "      <th>std</th>\n",
       "      <th>min</th>\n",
       "      <th>25%</th>\n",
       "      <th>50%</th>\n",
       "      <th>75%</th>\n",
       "      <th>max</th>\n",
       "    </tr>\n",
       "  </thead>\n",
       "  <tbody>\n",
       "    <tr>\n",
       "      <th>age</th>\n",
       "      <td>4612.0</td>\n",
       "      <td>46.201214</td>\n",
       "      <td>13.161454</td>\n",
       "      <td>18.0</td>\n",
       "      <td>36.00000</td>\n",
       "      <td>51.000</td>\n",
       "      <td>57.00000</td>\n",
       "      <td>63.000</td>\n",
       "    </tr>\n",
       "    <tr>\n",
       "      <th>website_visits</th>\n",
       "      <td>4612.0</td>\n",
       "      <td>3.566782</td>\n",
       "      <td>2.829134</td>\n",
       "      <td>0.0</td>\n",
       "      <td>2.00000</td>\n",
       "      <td>3.000</td>\n",
       "      <td>5.00000</td>\n",
       "      <td>30.000</td>\n",
       "    </tr>\n",
       "    <tr>\n",
       "      <th>time_spent_on_website</th>\n",
       "      <td>4612.0</td>\n",
       "      <td>724.011275</td>\n",
       "      <td>743.828683</td>\n",
       "      <td>0.0</td>\n",
       "      <td>148.75000</td>\n",
       "      <td>376.000</td>\n",
       "      <td>1336.75000</td>\n",
       "      <td>2537.000</td>\n",
       "    </tr>\n",
       "    <tr>\n",
       "      <th>page_views_per_visit</th>\n",
       "      <td>4612.0</td>\n",
       "      <td>3.026126</td>\n",
       "      <td>1.968125</td>\n",
       "      <td>0.0</td>\n",
       "      <td>2.07775</td>\n",
       "      <td>2.792</td>\n",
       "      <td>3.75625</td>\n",
       "      <td>18.434</td>\n",
       "    </tr>\n",
       "    <tr>\n",
       "      <th>status</th>\n",
       "      <td>4612.0</td>\n",
       "      <td>0.298569</td>\n",
       "      <td>0.457680</td>\n",
       "      <td>0.0</td>\n",
       "      <td>0.00000</td>\n",
       "      <td>0.000</td>\n",
       "      <td>1.00000</td>\n",
       "      <td>1.000</td>\n",
       "    </tr>\n",
       "  </tbody>\n",
       "</table>\n",
       "</div>"
      ],
      "text/plain": [
       "                        count        mean         std   min        25%  \\\n",
       "age                    4612.0   46.201214   13.161454  18.0   36.00000   \n",
       "website_visits         4612.0    3.566782    2.829134   0.0    2.00000   \n",
       "time_spent_on_website  4612.0  724.011275  743.828683   0.0  148.75000   \n",
       "page_views_per_visit   4612.0    3.026126    1.968125   0.0    2.07775   \n",
       "status                 4612.0    0.298569    0.457680   0.0    0.00000   \n",
       "\n",
       "                           50%         75%       max  \n",
       "age                     51.000    57.00000    63.000  \n",
       "website_visits           3.000     5.00000    30.000  \n",
       "time_spent_on_website  376.000  1336.75000  2537.000  \n",
       "page_views_per_visit     2.792     3.75625    18.434  \n",
       "status                   0.000     1.00000     1.000  "
      ]
     },
     "execution_count": 8,
     "metadata": {},
     "output_type": "execute_result"
    }
   ],
   "source": [
    "#let's look at the descriptive statistics for out continuous data set\n",
    "# pandas treats integers and floats as continuous variables- hence it will shows us 5 values which are integers and floats\n",
    "data.describe().T\n",
    "#this will show us the minumum,maximum,quartile,median,std\n",
    "#AGE\n",
    "# On average our leads are aged 46. The minimum age is 18 and the highest age is 63\n",
    "\n",
    "#WEBSITE VISITS- how many times a customer(lead) visIted the website:\n",
    "# on average the customer visited the website about 4 times.\n",
    "#  The lowest time is 0 and the maximum time a lead has visitd the website is 30 times\n",
    "\n",
    "#TIME SPENT ON WEBSITE - \n",
    "# The average total time spend on the website by a customer is 724. \n",
    "# ************The data does not specify if this is minutes or hours\n",
    "# The lowest time spent on the website is 0 and the highest total time spent is 2537\n",
    "\n",
    "#PAGE VIEW PER VISIT - Average number of pages on the website viewed during the visits\n",
    "# On average a customer views 3 pages during a visit.\n",
    "#  The least viewed number of pages is 0 meaning that the lead sometimes opens the site but does not view any page\n",
    "# The most viewed number of pages is 18\n",
    "\n",
    "# STATUS -  Flag indicating whether the lead was converted to a paid customer or not\n",
    "# On average, a lead converting to a customer has been very low, 0 and the maximum has been 1 client\n",
    "#this means leads that convert to buying customers are very few"
   ]
  },
  {
   "cell_type": "code",
   "execution_count": 9,
   "id": "312af2d8",
   "metadata": {},
   "outputs": [
    {
     "name": "stdout",
     "output_type": "stream",
     "text": [
      "age\n",
      "57    0.083478\n",
      "58    0.082827\n",
      "56    0.071552\n",
      "59    0.071119\n",
      "60    0.051605\n",
      "55    0.043365\n",
      "32    0.040763\n",
      "53    0.019731\n",
      "24    0.019514\n",
      "43    0.019297\n",
      "48    0.019081\n",
      "51    0.019081\n",
      "54    0.019081\n",
      "49    0.018864\n",
      "21    0.018647\n",
      "50    0.018430\n",
      "46    0.018430\n",
      "23    0.018430\n",
      "45    0.018213\n",
      "42    0.017997\n",
      "19    0.017563\n",
      "44    0.017563\n",
      "47    0.017346\n",
      "52    0.016696\n",
      "33    0.016479\n",
      "20    0.016262\n",
      "34    0.016045\n",
      "22    0.015395\n",
      "41    0.015178\n",
      "18    0.014310\n",
      "35    0.014310\n",
      "40    0.013660\n",
      "37    0.013010\n",
      "38    0.012576\n",
      "36    0.012576\n",
      "39    0.011275\n",
      "62    0.010408\n",
      "63    0.010191\n",
      "30    0.009540\n",
      "61    0.008239\n",
      "31    0.008239\n",
      "29    0.007806\n",
      "28    0.005854\n",
      "25    0.003686\n",
      "26    0.003252\n",
      "27    0.003036\n",
      "Name: proportion, dtype: float64\n",
      "--------------------------------------------------\n",
      "current_occupation\n",
      "Professional    0.567216\n",
      "Unemployed      0.312446\n",
      "Student         0.120338\n",
      "Name: proportion, dtype: float64\n",
      "--------------------------------------------------\n",
      "first_interaction\n",
      "Website       0.551171\n",
      "Mobile App    0.448829\n",
      "Name: proportion, dtype: float64\n",
      "--------------------------------------------------\n",
      "profile_completed\n",
      "High      0.490893\n",
      "Medium    0.485906\n",
      "Low       0.023200\n",
      "Name: proportion, dtype: float64\n",
      "--------------------------------------------------\n",
      "website_visits\n",
      "2     0.266479\n",
      "1     0.163703\n",
      "3     0.138985\n",
      "4     0.107112\n",
      "5     0.091500\n",
      "6     0.061145\n",
      "7     0.050304\n",
      "0     0.037728\n",
      "8     0.032741\n",
      "9     0.016912\n",
      "10    0.007372\n",
      "11    0.006288\n",
      "12    0.005421\n",
      "13    0.004987\n",
      "14    0.003686\n",
      "15    0.001951\n",
      "24    0.000650\n",
      "16    0.000650\n",
      "25    0.000434\n",
      "20    0.000434\n",
      "30    0.000217\n",
      "18    0.000217\n",
      "27    0.000217\n",
      "21    0.000217\n",
      "17    0.000217\n",
      "19    0.000217\n",
      "29    0.000217\n",
      "Name: proportion, dtype: float64\n",
      "--------------------------------------------------\n",
      "time_spent_on_website\n",
      "0       0.037728\n",
      "1       0.015395\n",
      "83      0.004337\n",
      "65      0.004120\n",
      "49      0.003686\n",
      "          ...   \n",
      "721     0.000217\n",
      "1540    0.000217\n",
      "1862    0.000217\n",
      "1275    0.000217\n",
      "2290    0.000217\n",
      "Name: proportion, Length: 1623, dtype: float64\n",
      "--------------------------------------------------\n",
      "page_views_per_visit\n",
      "0.000    0.039245\n",
      "2.168    0.003036\n",
      "2.154    0.002819\n",
      "2.200    0.002602\n",
      "2.170    0.002385\n",
      "           ...   \n",
      "5.793    0.000217\n",
      "4.944    0.000217\n",
      "5.624    0.000217\n",
      "1.413    0.000217\n",
      "2.692    0.000217\n",
      "Name: proportion, Length: 2414, dtype: float64\n",
      "--------------------------------------------------\n",
      "last_activity\n",
      "Email Activity      0.493929\n",
      "Phone Activity      0.267563\n",
      "Website Activity    0.238508\n",
      "Name: proportion, dtype: float64\n",
      "--------------------------------------------------\n",
      "status\n",
      "0    0.701431\n",
      "1    0.298569\n",
      "Name: proportion, dtype: float64\n",
      "--------------------------------------------------\n"
     ]
    }
   ],
   "source": [
    "#create a list of categorial columns in our dataset. Went to see by each column\n",
    "cat_col = [ 'current_occupation', 'first_interaction','profile_completed', 'website_visits','time_spent_on_website','page_views_per_visit','last_activity', 'status']\n",
    " # how many unqie values to we have and whats the unique count/frequency\n",
    "for column in cat_col:\n",
    " print(data[column].value_counts(1))\n",
    " print('-'*50)"
   ]
  },
  {
   "cell_type": "code",
   "execution_count": 10,
   "id": "82e061a4",
   "metadata": {},
   "outputs": [
    {
     "data": {
      "text/plain": [
       "<Axes: xlabel='status', ylabel='current_occupation'>"
      ]
     },
     "execution_count": 10,
     "metadata": {},
     "output_type": "execute_result"
    },
    {
     "data": {
      "image/png": "[encoded data removed]",
      "text/plain": [
       "<Figure size 640x480 with 1 Axes>"
      ]
     },
     "metadata": {},
     "output_type": "display_data"
    }
   ],
   "source": [
    "# let's look at some of the categorial variables\n",
    "# How does current  affect lead status\n",
    "sns.barplot(x = \"status\", y = \"current_occupation\", data=data)\n",
    "# Professionals seem to eventually convert to a paying lead, whilst student don't buy much, probably because they cannot afford\n",
    "# the unemployed also turn to buying customers probably because they have nothing to do hence they have all th etime to learn"
   ]
  },
  {
   "cell_type": "markdown",
   "id": "4f43070d",
   "metadata": {},
   "source": []
  },
  {
   "cell_type": "code",
   "execution_count": 11,
   "id": "3b767659",
   "metadata": {},
   "outputs": [
    {
     "data": {
      "text/plain": [
       "<Axes: xlabel='status', ylabel='first_interaction'>"
      ]
     },
     "execution_count": 11,
     "metadata": {},
     "output_type": "execute_result"
    },
    {
     "data": {
      "image/png": "[encoded data removed]",
      "text/plain": [
       "<Figure size 640x480 with 1 Axes>"
      ]
     },
     "metadata": {},
     "output_type": "display_data"
    }
   ],
   "source": [
    "# Do the first channels of interaction have an impact on the lead status?\n",
    "sns.barplot(x = \"status\", y = \"first_interaction\", data=data)\n",
    "# Those whose fist interaction is the website are most likely to buy than those using mobile app\n",
    "# On average the person who is likel to buy first interacted with the website\n",
    "# There is a significance difference that shows between the two\n"
   ]
  },
  {
   "cell_type": "code",
   "execution_count": null,
   "id": "f2533796",
   "metadata": {},
   "outputs": [],
   "source": [
    "data.corr()"
   ]
  },
  {
   "cell_type": "markdown",
   "id": "alleged-spirituality",
   "metadata": {
    "id": "alleged-spirituality"
   },
   "source": [
    "## Data Preprocessing\n",
    "\n",
    "- Missing value treatment (if needed)\n",
    "- Feature engineering (if needed)\n",
    "- Outlier detection and treatment (if needed)\n",
    "- Preparing data for modeling \n",
    "- Any other preprocessing steps (if needed)"
   ]
  },
  {
   "cell_type": "code",
   "execution_count": null,
   "id": "increasing-louisiana",
   "metadata": {
    "id": "increasing-louisiana"
   },
   "outputs": [],
   "source": []
  },
  {
   "cell_type": "markdown",
   "id": "difficult-union",
   "metadata": {
    "id": "difficult-union"
   },
   "source": [
    "## EDA\n",
    "\n",
    "- It is a good idea to explore the data once again after manipulating it."
   ]
  },
  {
   "cell_type": "code",
   "execution_count": null,
   "id": "interested-talent",
   "metadata": {
    "id": "interested-talent"
   },
   "outputs": [],
   "source": []
  },
  {
   "cell_type": "markdown",
   "id": "amazing-fluid",
   "metadata": {
    "id": "amazing-fluid"
   },
   "source": [
    "## Building a Decision Tree model"
   ]
  },
  {
   "cell_type": "code",
   "execution_count": null,
   "id": "neither-hydrogen",
   "metadata": {
    "id": "neither-hydrogen"
   },
   "outputs": [],
   "source": []
  },
  {
   "cell_type": "markdown",
   "id": "limited-strengthening",
   "metadata": {
    "id": "limited-strengthening"
   },
   "source": [
    "## Do we need to prune the tree?"
   ]
  },
  {
   "cell_type": "code",
   "execution_count": null,
   "id": "ambient-elements",
   "metadata": {
    "id": "ambient-elements"
   },
   "outputs": [],
   "source": []
  },
  {
   "cell_type": "markdown",
   "id": "a8c47c07",
   "metadata": {
    "id": "amazing-fluid"
   },
   "source": [
    "## Building a Random Forest model"
   ]
  },
  {
   "cell_type": "code",
   "execution_count": null,
   "id": "8bbd87fb",
   "metadata": {},
   "outputs": [],
   "source": []
  },
  {
   "cell_type": "markdown",
   "id": "11bc14ca",
   "metadata": {},
   "source": [
    "## Do we need to prune the tree?"
   ]
  },
  {
   "cell_type": "code",
   "execution_count": null,
   "id": "65f89cc9",
   "metadata": {},
   "outputs": [],
   "source": []
  },
  {
   "cell_type": "markdown",
   "id": "nasty-retailer",
   "metadata": {
    "id": "nasty-retailer"
   },
   "source": [
    "## Actionable Insights and Recommendations"
   ]
  },
  {
   "cell_type": "code",
   "execution_count": null,
   "id": "amino-prediction",
   "metadata": {
    "id": "amino-prediction"
   },
   "outputs": [],
   "source": []
  }
 ],
 "metadata": {
  "colab": {
   "collapsed_sections": [],
   "name": "ExtraaLearn_Project_Template_Notebook.ipynb",
   "provenance": []
  },
  "kernelspec": {
   "display_name": "Python 3 (ipykernel)",
   "language": "python",
   "name": "python3"
  },
  "language_info": {
   "codemirror_mode": {
    "name": "ipython",
    "version": 3
   },
   "file_extension": ".py",
   "mimetype": "text/x-python",
   "name": "python",
   "nbconvert_exporter": "python",
   "pygments_lexer": "ipython3",
   "version": "3.11.5"
  }
 },
 "nbformat": 4,
 "nbformat_minor": 5
}
